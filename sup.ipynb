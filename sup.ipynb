{
 "cells": [
  {
   "cell_type": "code",
   "execution_count": 1,
   "metadata": {},
   "outputs": [],
   "source": [
    "import pickle\n",
    "import numpy as np\n",
    "import os\n",
    "import matplotlib.pyplot as plt\n",
    "from copy import deepcopy\n",
    "\n",
    "from model import Model\n",
    "import utils\n",
    "from early_stopping import EarlyStopping\n",
    "from priors import moving_average\n",
    "from sklearn.decomposition import PCA\n",
    "\n",
    "import torch\n",
    "from torch.utils.data import DataLoader, TensorDataset\n",
    "from sklearn.model_selection import train_test_split\n",
    "from sklearn.metrics import accuracy_score\n"
   ]
  },
  {
   "cell_type": "code",
   "execution_count": 2,
   "metadata": {},
   "outputs": [],
   "source": [
    "%load_ext autoreload\n",
    "%autoreload 2"
   ]
  },
  {
   "cell_type": "code",
   "execution_count": 3,
   "metadata": {},
   "outputs": [],
   "source": [
    "config = utils.read_config()\n",
    "# set seeds\n",
    "utils.set_seeds(config['seed'])\n",
    "# utils.set_seeds(7)"
   ]
  },
  {
   "cell_type": "code",
   "execution_count": 4,
   "metadata": {},
   "outputs": [],
   "source": [
    "behaviour_data, spikes, trial_ids = utils.load_dataset(config)\n",
    "# consider data from only t = -1\n",
    "# time_from = int(1/bin_len)\n",
    "# behaviour_data, spikes = [x[time_from:, :] for x in behaviour_data], [x[time_from:, :] for x in spikes]"
   ]
  },
  {
   "cell_type": "code",
   "execution_count": 5,
   "metadata": {},
   "outputs": [
    {
     "name": "stderr",
     "output_type": "stream",
     "text": [
      "/var/folders/d9/5kr9n8rj3t18qph0lvrgf3dw0000gn/T/ipykernel_61165/1735089650.py:4: UserWarning: Creating a tensor from a list of numpy.ndarrays is extremely slow. Please consider converting the list to a single numpy.ndarray with numpy.array() before converting to a tensor. (Triggered internally at /Users/runner/work/pytorch/pytorch/pytorch/torch/csrc/utils/tensor_new.cpp:233.)\n",
      "  amp = torch.tensor([x[:, amp_idx] for x in behaviour_data], dtype=torch.float32)\n"
     ]
    }
   ],
   "source": [
    "stim_idx, choice_idx, amp_idx = 9, 3, 24\n",
    "stim = [x[0, stim_idx] for x in behaviour_data]\n",
    "choice = [x[0, choice_idx] for x in behaviour_data]\n",
    "amp = torch.tensor([x[:, amp_idx] for x in behaviour_data], dtype=torch.float32)\n",
    "# normalize amp by max value\n",
    "amp = amp / amp.max()\n",
    "num_contacts = [np.sum(x[:, 15:19], axis=1) for x in behaviour_data]\n",
    "# concat them\n",
    "behaviour_data = np.stack((stim, choice), axis=1)"
   ]
  },
  {
   "cell_type": "code",
   "execution_count": 6,
   "metadata": {},
   "outputs": [
    {
     "data": {
      "image/png": "[encoded data removed]",
      "text/plain": [
       "<Figure size 400x100 with 1 Axes>"
      ]
     },
     "metadata": {},
     "output_type": "display_data"
    },
    {
     "data": {
      "image/png": "[encoded data removed]",
      "text/plain": [
       "<Figure size 400x100 with 1 Axes>"
      ]
     },
     "metadata": {},
     "output_type": "display_data"
    },
    {
     "data": {
      "image/png": "[encoded data removed]",
      "text/plain": [
       "<Figure size 400x100 with 1 Axes>"
      ]
     },
     "metadata": {},
     "output_type": "display_data"
    },
    {
     "data": {
      "image/png": "[encoded data removed]",
      "text/plain": [
       "<Figure size 400x100 with 1 Axes>"
      ]
     },
     "metadata": {},
     "output_type": "display_data"
    }
   ],
   "source": [
    "# plot a random 1d time series\n",
    "plt.figure(figsize=(4, 1))\n",
    "a = np.random.rand(20)\n",
    "plt.plot(a)\n",
    "plt.gca().set_frame_on(False)\n",
    "plt.xticks([]); plt.yticks([])\n",
    "plt.show()\n",
    "plt.figure(figsize=(4, 1))\n",
    "plt.gca().set_frame_on(False)\n",
    "plt.xticks([]); plt.yticks([])\n",
    "\n",
    "# pad a by 2 0s on both sides\n",
    "filtered = np.pad(a, 2)\n",
    "# take moving average over window 5\n",
    "filtered = [filtered[i-2:i+3].mean() for i in range(2, 22)]\n",
    "plt.plot(filtered)\n",
    "plt.gca().set_frame_on(False)\n",
    "plt.xticks([]); plt.yticks([])\n",
    "plt.show()\n",
    "# # gaussian pulse with maximum at 15\n",
    "plt.figure(figsize=(4, 1))\n",
    "z = np.exp(-np.power(np.arange(20) - 15, 2) / 10)\n",
    "plt.plot(z)\n",
    "plt.gca().set_frame_on(False)\n",
    "plt.xticks([]); plt.yticks([])\n",
    "plt.show()\n",
    "# plot a * z\n",
    "plt.figure(figsize=(4, 1))\n",
    "plt.plot(a * z)\n",
    "plt.gca().set_frame_on(False)\n",
    "plt.xticks([]); plt.yticks([])\n",
    "plt.show()"
   ]
  },
  {
   "cell_type": "code",
   "execution_count": 7,
   "metadata": {},
   "outputs": [],
   "source": [
    "# convert to torch tensors\n",
    "behaviour_data = torch.tensor(behaviour_data, dtype=torch.long)\n",
    "# behaviour_data = torch.tensor(behaviour_data, dtype=torch.float32)\n",
    "spikes = torch.tensor(spikes, dtype=torch.float32)\n",
    "num_trials, time_bins, emissions_dim = np.array(spikes).shape"
   ]
  },
  {
   "cell_type": "code",
   "execution_count": 8,
   "metadata": {},
   "outputs": [],
   "source": [
    "# create dataloader with random sampling for training and testing\n",
    "# split data into training and testing\n",
    "# behaviour_data_train, behaviour_data_test, spikes_train, spikes_test = train_test_split(behaviour_data, spikes, test_size=0.3, random_state=42)\n",
    "behaviour_data_train, behaviour_data_test, spikes_train, spikes_test, amp_train, amp_test = train_test_split(behaviour_data, spikes, amp, test_size=0.2, random_state=7)\n",
    "# behaviour_data_train, behaviour_data_test, spikes_train, spikes_test, amp_train, amp_test = train_test_split(behaviour_data, spikes, amp, test_size=0.3, random_state=7)\n",
    "# further split test into test and val\n",
    "# behaviour_data_test, behaviour_data_val, spikes_test, spikes_val, amp_test, amp_val = train_test_split(behaviour_data_test, spikes_test, amp_test, test_size=0.5, random_state=7)\n",
    "# create dataloaders\n",
    "train_dataset = TensorDataset(behaviour_data_train, spikes_train, amp_train)\n",
    "test_dataset = TensorDataset(behaviour_data_test, spikes_test, amp_test)\n",
    "# val_dataset = TensorDataset(behaviour_data_val, spikes_val, amp_val)\n",
    "\n",
    "batch_size = config['batch_size']\n",
    "train_loader = DataLoader(train_dataset, batch_size=batch_size, shuffle=True)\n",
    "test_loader = DataLoader(test_dataset, batch_size=batch_size, shuffle=True)\n",
    "# val_loader = DataLoader(val_dataset, batch_size=batch_size, shuffle=True)"
   ]
  },
  {
   "cell_type": "code",
   "execution_count": 9,
   "metadata": {},
   "outputs": [
    {
     "name": "stdout",
     "output_type": "stream",
     "text": [
      "Train distribution of Stimulus: 0.46875, Choice: 0.359375\n",
      "Test distribution of Stimulus: 0.5454545454545454, Choice: 0.48484848484848486\n"
     ]
    }
   ],
   "source": [
    "# distribution of choice and stimulus in test\n",
    "print(\"Train distribution of Stimulus: {}, Choice: {}\".format(np.mean(behaviour_data_train[:, 0].numpy()), np.mean(behaviour_data_train[:, 1].numpy())))\n",
    "print(\"Test distribution of Stimulus: {}, Choice: {}\".format(np.mean(behaviour_data_test[:, 0].numpy()), np.mean(behaviour_data_test[:, 1].numpy())))\n",
    "# print(\"Val distribution of Stimulus: {}, Choice: {}\".format(np.mean(behaviour_data_val[:, 0].numpy()), np.mean(behaviour_data_val[:, 1].numpy())))"
   ]
  },
  {
   "cell_type": "code",
   "execution_count": 10,
   "metadata": {},
   "outputs": [],
   "source": [
    "# mean firing rate of neurons in tran spikes\n",
    "neuron_bias = torch.mean(spikes_train, dim=0)"
   ]
  },
  {
   "cell_type": "code",
   "execution_count": 11,
   "metadata": {},
   "outputs": [],
   "source": [
    "# # check if mps is available\n",
    "# device = torch.device('mps' if torch.backends.mps.is_built() else 'cpu')\n",
    "# print(device)\n",
    "# model = model.to(device)\n",
    "# spikes = spikes.to(device)"
   ]
  },
  {
   "cell_type": "code",
   "execution_count": 12,
   "metadata": {},
   "outputs": [],
   "source": [
    "def test(model, test_loader):\n",
    "    model.eval()\n",
    "    test_loss = 0\n",
    "    with torch.no_grad():\n",
    "        for _, (behavior_batch, spikes_batch, amp_batch) in enumerate(test_loader):\n",
    "            vae_pred, behavior_pred, amp_pred = model(spikes_batch, n_samples=20, use_mean_for_decoding=True)\n",
    "            # calculate loss\n",
    "            loss, loss_l = model.loss(np.inf, spikes_batch, behavior_batch, amp_batch, vae_pred, behavior_pred, amp_pred)\n",
    "            # l.append(loss_l[1])\n",
    "            test_loss += np.array(loss_l)            \n",
    "            # print(np.mean(l), np.std(l))\n",
    "    # divide loss by total number of samples in dataloader    \n",
    "    return test_loss/len(test_loader)"
   ]
  },
  {
   "cell_type": "code",
   "execution_count": 13,
   "metadata": {},
   "outputs": [
    {
     "name": "stdout",
     "output_type": "stream",
     "text": [
      "Log det: tensor(-74.5478) Inverse max:  tensor(63.9476) Covariance max:  tensor(0.5100)\n",
      "Number of trainable parameters in RNN: 2400\n",
      "Number of trainable parameters in Posterior Mean X: 163\n",
      "Number of trainable parameters in Posterior Mean Z: 163\n",
      "Number of trainable parameters in Block Diagonal Z: 163\n",
      "Number of trainable parameters in Cov X: 217\n",
      "Number of trainable parameters in VAE: 3353\n",
      "Using stimulus decoder\n",
      "Using choice decoder\n",
      "Scheduler not implemented for decoder\n",
      "Number of trainable parameters in behavior decoder: 788\n",
      "Loading weights for s2\n",
      "Weights loaded for s2\n",
      "vae_gp_[1, 1, 1]_diagonal_gru_8_2_True_noise_0.01_rbfscale_0.5_smoothing_3_monotonic_1_1_10_[False, True, False]_3_entropy_None_seed_21cnn_0_1_None\n"
     ]
    }
   ],
   "source": [
    "config = utils.read_config()\n",
    "# create model and optimizer\n",
    "model = Model(config, input_dim=emissions_dim)\n",
    "# model = Model(config, input_dim=emissions_dim, neuron_bias=neuron_bias)\n",
    "# model = torch.compile(model)\n",
    "early_stop = EarlyStopping(patience=config['early_stop']['patience'], delta=config['early_stop']['delta'], trace_func=print)\n",
    "# scheduler = torch.optim.lr_scheduler.ReduceLROnPlateau(optimizer, 'min', threshold=1, verbose=True, patience=5, factor=0.5)\n",
    "# print named parameters of model\n",
    "# print(\"Model's state_dict:\")\n",
    "# for name, param in model.named_parameters():\n",
    "#     if param.requires_grad:\n",
    "#         print(name, param.data.shape)\n",
    "print(model.arch_name)"
   ]
  },
  {
   "cell_type": "code",
   "execution_count": null,
   "metadata": {},
   "outputs": [],
   "source": [
    "# # load pretrained model from path\n",
    "# base_pth = '/Users/mithileshvaidya/Code/VAE/revised/results_final/vae_gp/100_ms'\n",
    "# seed = 13\n",
    "# pth = os.path.join(base_pth, 'vae_gp_[1, 1, 1]_diagonal_gru_8_2_True_noise_0.01_rbfscale_0.5_smoothing_3_3_entropy_None_seed_{}'.format(seed))\n",
    "# pth = folder_pth = '/Users/mithileshvaidya/Code/VAE/revised/results_val_oldsplit/vae_gp_uni_cnn/dandi_sub-221CR_ses-20190515T160400/100_ms/vae_gp_[1, 1, 1]_diagonal_gru_8_2_True_noise_0.01_rbfscale_0.5_smoothing_3_monotonic_1_1_10_[False, True, False]_3_entropy_None_seed_21cnn_0_1_None'\n",
    "# model.load_state_dict(torch.load(pth + '/best')['model_state_dict'])"
   ]
  },
  {
   "cell_type": "code",
   "execution_count": 18,
   "metadata": {},
   "outputs": [
    {
     "name": "stdout",
     "output_type": "stream",
     "text": [
      "Epoch [20/2000], Train Loss: [498.66519165  19.92280197], Test Loss: [496.45303345  20.84402275], Best Loss: 517.2970561981201\n",
      "Saved best\n",
      "Epoch [40/2000], Train Loss: [494.85186768  19.09415817], Test Loss: [494.1031189   20.72730446], Best Loss: 514.8304233551025\n",
      "Epoch [60/2000], Train Loss: [494.00921631  17.83776665], Test Loss: [493.64584351  20.72225189], Best Loss: 514.8304233551025\n",
      "Epoch [62/2000], Train Loss: [493.89614868  17.89712334], Test Loss: [493.68423462  20.73133469], Best Loss: 514.8304233551025\n",
      "Epoch [64/2000], Train Loss: [493.92285156  17.72815704], Test Loss: [493.55145264  20.72223473], Best Loss: 514.8304233551025\n",
      "Epoch [66/2000], Train Loss: [493.80044556  18.10676956], Test Loss: [493.64501953  20.75317383], Best Loss: 514.8304233551025\n",
      "Epoch [68/2000], Train Loss: [493.66705322  17.98653221], Test Loss: [493.66766357  20.87248421], Best Loss: 514.8304233551025\n"
     ]
    }
   ],
   "source": [
    "# train the model\n",
    "torch.autograd.set_detect_anomaly(True)\n",
    "train_losses, test_losses = [], []\n",
    "\n",
    "def train(model: Model, train_loader, val_loader, early_stop):    \n",
    "    test_every = config['test_every']    \n",
    "    train_decoder_after = config['decoder']['train_decoder_after']    \n",
    "    num_samples_train = config['num_samples_train']\n",
    "    optim_size = config['optim_size']\n",
    "    save_model = True    \n",
    "    for epoch in range(config['epochs']):\n",
    "        # forward pass\n",
    "        # print(model.behavior_decoder.scheduler.get_last_lr())\n",
    "        # model.vae.scheduler.get_last_lr()\n",
    "        epoch_loss = 0\n",
    "        model.train()\n",
    "        model.optim_zero_grad()\n",
    "        optim_counter = 0\n",
    "        for i, (behavior_batch, spikes_batch, amp_batch) in enumerate(train_loader):            \n",
    "            # behavior_batch = behavior_batch.long()\n",
    "            vae_pred, behavior_pred, amp_pred = model(spikes_batch, n_samples=num_samples_train, use_mean_for_decoding=False)            \n",
    "            optim_counter += len(behavior_batch)\n",
    "            # calculate loss\n",
    "            loss, loss_l = model.loss(epoch, spikes_batch, behavior_batch, amp_batch, vae_pred, behavior_pred, amp_pred)\n",
    "            epoch_loss += np.array(loss_l)            \n",
    "            # backward pass            \n",
    "            loss.backward()\n",
    "            \n",
    "            # print gradient of any weight\n",
    "            # if epoch > 10:\n",
    "            #     print(model.behavior_decoder.conv_choice[1].weight.grad)\n",
    "            if optim_counter >= optim_size:\n",
    "                model.optim_step(train_decoder = epoch >= train_decoder_after)\n",
    "                model.optim_zero_grad()\n",
    "                print(\"Stepping inside\")\n",
    "                optim_counter = 0\n",
    "        # do it for the rest        \n",
    "        model.optim_step(train_decoder = epoch >= train_decoder_after)\n",
    "        model.optim_zero_grad()\n",
    "        \n",
    "        # if epoch % 100 == 0:\n",
    "        #     # print lr of decoder\n",
    "        #     print(model.behavior_decoder.scheduler.get_last_lr())\n",
    "        train_losses.append((epoch, epoch_loss/len(train_loader)))\n",
    "        model.scheduler_step(step_decoder = epoch >= train_decoder_after)\n",
    "        # test loss\n",
    "        if (epoch+1) % test_every == 0:\n",
    "            test_loss = test(model, val_loader)\n",
    "            sum_test_loss = np.sum(test_loss)\n",
    "            # scheduler.step(sum_test_loss)\n",
    "            test_losses.append((epoch, test_loss))\n",
    "            early_stop(sum_test_loss, model, save_model=save_model, save_prefix='best')\n",
    "            model.save_model(save_prefix=str(epoch))\n",
    "            print('Epoch [{}/{}], Train Loss: {}, Test Loss: {}, Best Loss: {}'.format(epoch+1, config['epochs'], train_losses[-1][1], test_losses[-1][1], early_stop.best_score))\n",
    "            if early_stop.slow_down:\n",
    "                test_every = config['early_stop']['test_every_new']\n",
    "            else:\n",
    "                test_every = config['test_every']\n",
    "            if early_stop.early_stop:\n",
    "                print(\"Early stopping\")\n",
    "                break\n",
    "            \n",
    "    \n",
    "    only_test_loss = [np.sum(x[1]) for x in test_losses]\n",
    "    \n",
    "    # compute min test loss and return it    \n",
    "    # return np.min(only_test_loss), train_losses, test_losses\n",
    "    \n",
    "    # compute median of test loss in a window of 5\n",
    "    meds = []\n",
    "    half_window = 10\n",
    "    only_test_loss = [0]*(half_window) + only_test_loss + [0]*(half_window)\n",
    "    for i in range(half_window, len(only_test_loss)-half_window):\n",
    "        meds.append(np.max(only_test_loss[i-half_window:i+half_window]))\n",
    "    return np.min(meds), train_losses, test_losses\n",
    "\n",
    "_ = train(model, train_loader, test_loader, early_stop)\n",
    "# train model\n",
    "# min_test_loss, train_losses, test_losses = train(model, test_loader)"
   ]
  },
  {
   "cell_type": "code",
   "execution_count": null,
   "metadata": {},
   "outputs": [],
   "source": [
    "# torch.save(model.state_dict(), 'post_stage_3.pth')"
   ]
  },
  {
   "cell_type": "code",
   "execution_count": null,
   "metadata": {},
   "outputs": [],
   "source": [
    "train_losses_og, test_losses_og = train_losses[:], test_losses[:]"
   ]
  },
  {
   "cell_type": "code",
   "execution_count": null,
   "metadata": {},
   "outputs": [],
   "source": [
    "# model.prior_modules[0].plot_gaussian()\n",
    "# model.prior_modules[0].log_std"
   ]
  },
  {
   "cell_type": "code",
   "execution_count": null,
   "metadata": {},
   "outputs": [],
   "source": [
    "utils.plot_loss_curve(model, config, train_losses, test_losses)"
   ]
  },
  {
   "cell_type": "code",
   "execution_count": null,
   "metadata": {},
   "outputs": [],
   "source": [
    "# sort list by test loss\n",
    "sorted_loss = sorted(test_losses, key=lambda x: x[1][1], reverse=True) \n",
    "# extract first element after epoch 600\n",
    "sorted_loss = [(x[0], x[1][1]) for x in sorted_loss if x[0] > 100]\n",
    "print(sorted_loss[:2], sorted_loss[-10:])\n",
    "# print(test_losses)"
   ]
  },
  {
   "cell_type": "code",
   "execution_count": null,
   "metadata": {},
   "outputs": [],
   "source": [
    "# load best model\n",
    "model.load_model('best')\n",
    "# model.load_model(save_prefix='best', base_path='/Users/mithileshvaidya/Code/VAE/revised/results/dandi_sub-221CR_ses-20190515T160400/100_ms/3monotonicitybest_vae_gp_[1, 1, 1]_diagonal_gru_8_2_True_noise_0.01_rbfscale_0.5_smoothing_3_monotonic_1_1_20_[True, True, False]_3_entropy_None')\n",
    "# load model from epoch x\n",
    "# model.load_model('199')"
   ]
  },
  {
   "cell_type": "code",
   "execution_count": 15,
   "metadata": {},
   "outputs": [
    {
     "name": "stdout",
     "output_type": "stream",
     "text": [
      "Bits per spike train: 0.5970968008041382, test: 0.5888038873672485, all: 0.5995866060256958\n"
     ]
    }
   ],
   "source": [
    "# compute outputs\n",
    "colors = ['red', 'blue', 'green', 'black', 'yellow', 'pink']\n",
    "# convert to numpy\n",
    "spikes_train_np = spikes_train.detach().numpy()\n",
    "spikes_test_np = spikes_test.detach().numpy()\n",
    "# spikes_val_np = spikes_val.detach().numpy()\n",
    "spikes_np = spikes.detach().numpy()\n",
    "\n",
    "with torch.no_grad():\n",
    "    model.eval()        \n",
    "    # run on only test\n",
    "    vae_output, _, amp_out_test = model.forward(spikes_test, n_samples=1, use_mean_for_decoding=True)  \n",
    "    y_recon_test, x_mu_test, z_mu_test, x_A_test, z_A_test, x_test, z_test, z_test_presoftmax, g_test = model.vae.extract_relevant(vae_output)\n",
    "    # run only on train\n",
    "    vae_output, _, amp_out_train = model.forward(spikes_train, n_samples=1, use_mean_for_decoding=True)\n",
    "    y_recon_train, x_mu_train, z_mu_train, x_A_train, z_A_train, x_train, z_train, z_train_presoftmax, g_train = model.vae.extract_relevant(vae_output)\n",
    "    # # run only on val\n",
    "    # vae_output, _, amp_out_val = model.forward(spikes_val, n_samples=1, use_mean_for_decoding=True)\n",
    "    # y_recon_val, x_mu_val, z_mu_val, x_A_val, z_A_val, x_val, z_val, z_val_presoftmax, g_val = model.vae.extract_relevant(vae_output)\n",
    "    # run on both\n",
    "    vae_output, _, amp_out_all = model.forward(spikes, n_samples=1, use_mean_for_decoding=True)\n",
    "    y_recon_all, x_mu_all, z_mu_all, x_A_all, z_A_all, x_all, z_all, z_presoftmax_all, g_all = model.vae.extract_relevant(vae_output)\n",
    "\n",
    "# compute bits/spike\n",
    "bits_per_spike_train = utils.bits_per_spike(y_recon_train, spikes_train_np)\n",
    "bits_per_spike_test = utils.bits_per_spike(y_recon_test, spikes_test_np)\n",
    "# bits_per_spike_val = utils.bits_per_spike(y_recon_val, spikes_val_np)\n",
    "bits_per_spike = utils.bits_per_spike(y_recon_all, spikes_np)\n",
    "# # show distribution of bits per spike\n",
    "# plt.hist(bits_per_spike_train, bins=50)\n",
    "# plt.xlabel('Bits/spike')\n",
    "# plt.ylabel('Frequency')\n",
    "# plt.show()\n",
    "# print('Bits per spike: {}'.format(bits_per_spike))\n",
    "print(\"Bits per spike train: {}, test: {}, all: {}\".format(np.sum(bits_per_spike_train), np.sum(bits_per_spike_test), np.sum(bits_per_spike)))\n",
    "# print(\"Bits per spike train: {}, test: {}, val:{}, all: {}\".format(np.sum(bits_per_spike_train), np.sum(bits_per_spike_test), np.sum(bits_per_spike), np.sum(bits_per_spike_val)))\n",
    "\n",
    "# to_write = (y_recon_train, x_mu_train, z_mu_train, x_A_train, z_A_train, x_train, z_train, z_train_presoftmax, g_train,\n",
    "#             y_recon_test, x_mu_test, z_mu_test, x_A_test, z_A_test, x_test, z_test, z_test_presoftmax, g_test,\n",
    "#             y_recon_val, x_mu_val, z_mu_val, x_A_val, z_A_val, x_val, z_val, z_val_presoftmax, g_val,\n",
    "#             amp_out_train, amp_out_test)\n",
    "to_write = (y_recon_train, x_mu_train, z_mu_train, x_A_train, z_A_train, x_train, z_train, z_train_presoftmax, g_train,\n",
    "            y_recon_test, x_mu_test, z_mu_test, x_A_test, z_A_test, x_test, z_test, z_test_presoftmax, g_test,            \n",
    "            amp_out_train, amp_out_test)\n",
    "pth = os.path.join(utils.model_store_path(config, model.arch_name), 'res.pkl')\n",
    "with open(pth, 'wb') as f:\n",
    "    pickle.dump(to_write, f)\n",
    "# print(pth)"
   ]
  },
  {
   "cell_type": "code",
   "execution_count": null,
   "metadata": {},
   "outputs": [],
   "source": [
    "# cov = np.mean(z_A_train, axis=0)[10, :, :]\n",
    "# print(cov)\n",
    "# plt.imshow(np.linalg.inv(cov))\n",
    "fig, ax = plt.subplots(3, 1, figsize=(3, 9))\n",
    "for i in range(3):\n",
    "    cov = np.mean(z_A_train, axis=0)[:, :, i]    \n",
    "    im = ax[i].imshow(cov)\n",
    "    ax[i].set_title(\"Covariance of z{}\".format(i))\n",
    "    plt.colorbar(im, ax=ax[i])\n",
    "plt.show()"
   ]
  },
  {
   "cell_type": "code",
   "execution_count": null,
   "metadata": {},
   "outputs": [],
   "source": [
    "# plot PSTH of reconstructed and original data\n",
    "averaged_recon, averaged_original = y_recon.mean(axis=0), spikes_np.mean(axis=0)\n",
    "# stimulus and choice important\n",
    "common = [12, 14, 4, 31]\n",
    "stim_neurons = [15, 11, 33, 30]\n",
    "choice_neurons = [16, 2, 6, 8]\n",
    "# plot each in a 5x7 grid\n",
    "fig, axs = plt.subplots(5, 7, figsize=(12, 9))\n",
    "# set title of figure\n",
    "fig.suptitle('yellow: choice, green: stimulus, pink: common')\n",
    "for i in range(5):\n",
    "    for j in range(7):\n",
    "        neuron_idx = i*7+j        \n",
    "        axs[i, j].plot(averaged_recon[:, neuron_idx], label='recon', color='red')\n",
    "        axs[i, j].plot(averaged_original[:, neuron_idx], label='original', color='blue')\n",
    "        # no ticks\n",
    "        axs[i, j].set_xticks([])\n",
    "        axs[i, j].set_yticks([])\n",
    "        # set title of plot to neuron index\n",
    "        # print only 2 decimal places        \n",
    "        axs[i, j].set_title('{}: {:.4f}'.format(neuron_idx, bits_per_spike_all[neuron_idx]))\n",
    "        # set background color of plot to green if neuron in choice\n",
    "        if neuron_idx in choice_neurons:\n",
    "            axs[i, j].set_facecolor('yellow')\n",
    "        # set background color of plot to red if neuron in stimulus\n",
    "        if neuron_idx in stim_neurons:\n",
    "            axs[i, j].set_facecolor('green')\n",
    "        # set background color of plot to blue if neuron in common\n",
    "        if neuron_idx in common:\n",
    "            axs[i, j].set_facecolor('pink')\n",
    "axs[0, 0].legend()"
   ]
  },
  {
   "cell_type": "code",
   "execution_count": 16,
   "metadata": {},
   "outputs": [
    {
     "data": {
      "text/plain": [
       "<matplotlib.legend.Legend at 0x13f236980>"
      ]
     },
     "execution_count": 16,
     "metadata": {},
     "output_type": "execute_result"
    },
    {
     "data": {
      "image/png": "[encoded data removed]",
      "text/plain": [
       "<Figure size 640x480 with 1 Axes>"
      ]
     },
     "metadata": {},
     "output_type": "display_data"
    }
   ],
   "source": [
    "# plot trial averaged latent space\n",
    "# z, x = torch.nn.Softmax(dim=2)(mu[:, :, :model.vae.z_dim]).numpy(), mu[:, :, model.vae.z_dim:].numpy()\n",
    "z = z_all\n",
    "# z = z_mu_all\n",
    "# z = z_all_presoftmax\n",
    "# x = x_all\n",
    "x = x_mu_all\n",
    "z_std = np.std(z, axis=0)\n",
    "z_avg = np.mean(z, axis=0)\n",
    "# make x ticks of range 0.1 from -2 to 0.5\n",
    "bin_len = config['shape_dataset']['win_len']\n",
    "t = np.arange(-2, 0.5, bin_len)\n",
    "for i in range(z.shape[2]):\n",
    "    plt.plot(t, z_avg[:, i], label='z{}'.format(i), color=colors[i])    \n",
    "    plt.fill_between(t, z_avg[:, i]-z_std[:, i], z_avg[:, i]+z_std[:, i], alpha=0.3, color=colors[i])\n",
    "# plt.set_title('z')\n",
    "plt.legend()"
   ]
  },
  {
   "cell_type": "code",
   "execution_count": null,
   "metadata": {},
   "outputs": [],
   "source": [
    "def plot_cont_latent(data, label, ax_id, linestyle):\n",
    "    num_latents = data.shape[1]\n",
    "    for i in range(num_latents):\n",
    "        axs[ax_id].plot(t, data[:, i], label='{}_x{}'.format(label, i),\n",
    "                        color=colors[i], linestyle=linestyle)    \n",
    "    \n",
    "# behave_data, x_data = behaviour_data_train, x_train\n",
    "# behave_data, x_data = behaviour_data_train, x_train*z_train\n",
    "behave_data, x_data = behaviour_data_test, x_test\n",
    "# behave_data, x_data = behaviour_data, x\n",
    "# group x for stimulus and choice\n",
    "stim, choice = behave_data[:, 0].numpy(), behave_data[:, 1].numpy()\n",
    "# group x for stimulus\n",
    "x_stim_left, x_stim_right = x_data[stim == 1].mean(axis=0), x_data[stim == 0].mean(axis=0)\n",
    "x_choice_left, x_choice_right = x_data[choice == 1].mean(axis=0), x_data[choice == 0].mean(axis=0)\n",
    "# plot x for stimulus and choice\n",
    "fig, axs = plt.subplots(1, 2, figsize=(12, 6))\n",
    "\n",
    "plot_cont_latent(x_stim_left, 'stim left', 0, '-')\n",
    "plot_cont_latent(x_stim_right, 'stim right', 0, '-.')\n",
    "axs[0].set_title('x grouped by stimulus')\n",
    "axs[0].legend()\n",
    "\n",
    "plot_cont_latent(x_choice_left, 'choice left', 1, '-')\n",
    "plot_cont_latent(x_choice_right, 'choice right', 1, '-.')\n",
    "axs[1].set_title('x grouped by choice')\n",
    "axs[1].legend()\n"
   ]
  },
  {
   "cell_type": "code",
   "execution_count": null,
   "metadata": {},
   "outputs": [],
   "source": [
    "# plot x on 2d\n",
    "choice = behaviour_data[:, 1].numpy()\n",
    "# group x for stimulus\n",
    "x_choice_left, x_choice_right = x[choice == 1].mean(axis=0), x[choice == 0].mean(axis=0)\n",
    "z_choice_left, z_choice_right = z[choice == 1].mean(axis=0), z[choice == 0].mean(axis=0)\n",
    "# plot first 2 dimensions\n",
    "fig, ax = plt.subplots(1, 1, figsize=(6, 6))\n",
    "ax.plot(x_choice_left[:, 0], x_choice_left[:, 1], label='choice left', color='red')\n",
    "ax.plot(x_choice_right[:, 0], x_choice_right[:, 1], label='choice right', color='blue')\n",
    "# mark starting point\n",
    "ax.scatter(x_choice_left[0, 0], x_choice_left[0, 1], color='red')\n",
    "ax.scatter(x_choice_right[0, 0], x_choice_right[0, 1], color='blue')\n",
    "ax.legend()\n",
    "ax.set_title('x grouped by choice')"
   ]
  },
  {
   "cell_type": "code",
   "execution_count": null,
   "metadata": {},
   "outputs": [],
   "source": [
    "import decoder\n",
    "nsamps = config['num_samples_train']\n",
    "\n",
    "# train the linear decoder for behavior\n",
    "# create linear decoder\n",
    "linear_decoder = decoder.CNNDecoderIndividual(config, [0, 1, 0])\n",
    "decoder_train_l, decoder_test_l = [], []\n",
    "# x_train, z_train = torch.tensor(x_train, dtype=torch.float32), torch.tensor(z_train, dtype=torch.float32)\n",
    "for epoch in range(100):    \n",
    "    # forward pass        \n",
    "    linear_decoder.train()\n",
    "    behavior_pred = linear_decoder(x_train, z_train)\n",
    "    # print(behavior_pred)\n",
    "    # behavior_pred = linear_decoder(mu_train[:, :, :2], mu_train[:, :, 2:])\n",
    "    # print(behavior_pred.shape, behaviour_data_train.shape)\n",
    "    loss = linear_decoder.loss(behavior_pred, behaviour_data_train, None)\n",
    "    # backward pass\n",
    "    linear_decoder.optimizer.zero_grad()\n",
    "    loss.backward()\n",
    "    linear_decoder.optimizer.step()\n",
    "    epoch_loss = loss.item()    \n",
    "    decoder_train_l.append(epoch_loss)\n",
    "    # test loss\n",
    "    if (epoch+1) % 1 == 0:\n",
    "        linear_decoder.eval()\n",
    "        test_pred = linear_decoder(x_test, z_test)\n",
    "        # behavior_pred = linear_decoder(mu_train[:, :, :2], mu_train[:, :, 2:])\n",
    "        test_loss = linear_decoder.loss(test_pred, behaviour_data_test, None).item()        \n",
    "        decoder_test_l.append(test_loss)\n",
    "        print('Epoch [{}/{}], Train Loss: {:.4f}, Test Loss: {:.4f}'.format(epoch+1, num_epochs, decoder_train_l[-1], decoder_test_l[-1]))\n",
    "    \n",
    "with torch.no_grad():\n",
    "    behavior_pred_train = linear_decoder(x_train, z_train).detach()\n",
    "    behavior_pred_test = linear_decoder(x_test, z_test).detach()\n",
    "    # behavior_pred_train = linear_decoder(mu_train[:, :, :2], mu_train[:, :, 2:])\n",
    "    # behavior_pred_test = linear_decoder(mu_test[:, :, :2], mu_test[:, :, 2:])"
   ]
  },
  {
   "cell_type": "code",
   "execution_count": 17,
   "metadata": {},
   "outputs": [
    {
     "name": "stdout",
     "output_type": "stream",
     "text": [
      "Accuracy of stimulus train: 0.53125, test: 0.45454545454545453\n",
      "Accuracy of choice train: 0.359375, test: 0.5151515151515151\n"
     ]
    }
   ],
   "source": [
    "accuracy_train_stim, accuracy_train_choice = utils.get_decoding_accuracies(model, behaviour_data_train, spikes_train)\n",
    "accuracy_test_stim, accuracy_test_choice = utils.get_decoding_accuracies(model, behaviour_data_test, spikes_test)\n",
    "# accuracy_val_stim, accuracy_val_choice = utils.get_decoding_accuracies(model, behaviour_data_val, spikes_val)\n",
    "# print accuracy\n",
    "print(\"Accuracy of stimulus train: {}, test: {}\".format(accuracy_train_stim, accuracy_test_stim))\n",
    "print(\"Accuracy of choice train: {}, test: {}\".format(accuracy_train_choice, accuracy_test_choice))\n",
    "# print(\"Accuracy of stimulus train: {}, test: {}, val: {}\".format(accuracy_train_stim, accuracy_test_stim, accuracy_val_stim))\n",
    "# print(\"Accuracy of choice train: {}, test: {}, val: {}\".format(accuracy_train_choice, accuracy_test_choice, accuracy_val_choice))"
   ]
  },
  {
   "cell_type": "code",
   "execution_count": null,
   "metadata": {},
   "outputs": [],
   "source": [
    "# plot a random trial\n",
    "stim, choice = behaviour_data[:, 0].numpy(), behaviour_data[:, 1].numpy()\n",
    "# amp_pred_ = amp_out_all.numpy()\n",
    "# examine a random trial\n",
    "trial_idx = np.random.randint(len(z))\n",
    "# trial_idx = 87\n",
    "plot_g = False\n",
    "# plot_g = True\n",
    "# trial_idx = 1\n",
    "# plot z and x\n",
    "# z = g_train\n",
    "if plot_g:\n",
    "    fig, axs = plt.subplots(4, 1, figsize=(5, 8))\n",
    "else:\n",
    "    fig, axs = plt.subplots(3, 1, figsize=(5, 8))\n",
    "# plot z\n",
    "# apply softmax\n",
    "# z[trial_idx, :] = np.exp(z[trial_idx, :])/np.sum(np.exp(z[trial_idx, :]), axis=1)[:, None]\n",
    "bin_len = config['shape_dataset']['win_len']\n",
    "t = np.arange(-2, 0.5, bin_len)\n",
    "axs[0].plot(t, z[trial_idx, :, 0], label='z0', marker='o', color=colors[0])\n",
    "axs[0].plot(t, z[trial_idx, :, 1], label='z1', marker='o', color=colors[1])\n",
    "axs[0].plot(t, z[trial_idx, :, 2], label='z2', marker='o', color=colors[2])\n",
    "axs[0].set_title('z for a random trial:'+str(trial_idx))\n",
    "# axs[0].set_ylim(0, 1)\n",
    "axs[0].legend()\n",
    "axs[0].set_xticks([])\n",
    "# plot num contacts\n",
    "axs[1].plot(t, num_contacts[trial_idx], marker='o', label='num contacts')\n",
    "axs[1].set_title('num contacts and amplitude of whisk')\n",
    "axs[1].set_xticks([])\n",
    "axs[1].set_ylabel('Num contacts')\n",
    "axs[1].legend(loc='upper left')\n",
    "# plot on right y axis\n",
    "ax2 = axs[1].twinx()\n",
    "ax2.plot(t, amp[trial_idx], marker='o', label='amplitude y', color='red')\n",
    "# ax2.plot(t, amp_pred_[trial_idx], marker='o', label='amplitude pred', color='green')\n",
    "ax2.legend(loc='upper right')\n",
    "ax2.set_ylabel('Amplitude')\n",
    "\n",
    "# # plot time bin distribution\n",
    "# tbd = misc_all[2]\n",
    "# axs[2].plot(t, tbd[trial_idx, :, 0], label='z0', marker='o')\n",
    "# axs[2].plot(t, tbd[trial_idx, :, 1], label='z1', marker='o')\n",
    "# axs[2].plot(t, tbd[trial_idx, :, 2], label='z2', marker='o')\n",
    "# axs[2].set_title('Softmax output of z before computing peak')\n",
    "# plot x\n",
    "axs[2].plot(t, x[trial_idx, :, 0], label='x0', marker='o', color=colors[0])\n",
    "axs[2].plot(t, x[trial_idx, :, 1], label='x1', marker='o', color=colors[1])\n",
    "axs[2].plot(t, x[trial_idx, :, 2], label='x2', marker='o', color=colors[2])\n",
    "# axs[2].plot(t, x[trial_idx, :, 3], label='x3', marker='o', color=colors[3])\n",
    "# axs[2].plot(t, x[trial_idx, :, 4], label='x4', marker='o', color=colors[4])\n",
    "# axs[2].plot(t, x[trial_idx, :, 5], label='x5', marker='o', color=colors[5])\n",
    "axs[2].set_title('x, stimulus: {}, choice: {}'.format(stim[trial_idx].astype(int), choice[trial_idx].astype(int)))\n",
    "\n",
    "if plot_g:\n",
    "    # plot g\n",
    "    def dt(x):\n",
    "        # pad with zeros on both side. x is of shape (t,)\n",
    "        x = np.concatenate((np.zeros((1,)), x, np.zeros((1,))), axis=0)\n",
    "        # compute difference\n",
    "        centred = (x[2:] - x[:-2])/2\n",
    "        # forward\n",
    "        forward = x[2:] - x[1:-1]\n",
    "        # backward\n",
    "        backward = x[1:-1] - x[:-2]        \n",
    "        return forward\n",
    "    g = g_all\n",
    "    axs[3].plot(t, g[trial_idx, :, 0], label='g0', marker='o')\n",
    "    axs[3].plot(t, g[trial_idx, :, 1], label='g1', marker='o')\n",
    "    # axs[3].plot(t, g[trial_idx, :, 2], label='g2', marker='o')\n",
    "    # axs[3].plot(t, dt(g[trial_idx, :, 0]), label='dg0', marker='o')\n",
    "    # axs[3].plot(t, dt(g[trial_idx, :, 1]), label='dg1', marker='o')\n",
    "    # axs[3].plot(t, dt(g[trial_idx, :, 2]), label='dg2', marker='o')\n",
    "    axs[3].set_title('g, stimulus: {}, choice: {}'.format(stim[trial_idx].astype(int), choice[trial_idx].astype(int)))\n",
    "    # axs[3].set_ylim(-2, 2)\n",
    "    axs[3].legend()"
   ]
  },
  {
   "cell_type": "code",
   "execution_count": null,
   "metadata": {},
   "outputs": [],
   "source": [
    "# train a sklearn logistic regression model for comparison\n",
    "from sklearn.linear_model import LogisticRegression\n",
    "from sklearn.svm import SVC\n",
    "\n",
    "def reshape(x, y):\n",
    "    trials, time, dim = x.shape\n",
    "    # x = x[:, -5:-4, :]\n",
    "    return x.reshape(trials, -1), y\n",
    "\n",
    "stim_choice = 0\n",
    "\n",
    "x_train_baseline, y_train_baseline = reshape(spikes_train, behaviour_data_train)\n",
    "x_test_baseline, y_test_baseline = reshape(spikes_test, behaviour_data_test)"
   ]
  },
  {
   "cell_type": "code",
   "execution_count": null,
   "metadata": {},
   "outputs": [],
   "source": [
    "# train logistic regression model\n",
    "log_reg = LogisticRegression(penalty='l1', C=1, solver='liblinear', verbose=1)\n",
    "# log_reg = SVC()\n",
    "log_reg.fit(x_train_baseline, y_train_baseline[:, stim_choice])\n",
    "# test accuracy\n",
    "accuracy_train = accuracy_score(y_train_baseline[:, stim_choice], log_reg.predict(x_train_baseline))\n",
    "accuracy_test = accuracy_score(y_test_baseline[:, stim_choice], log_reg.predict(x_test_baseline))\n",
    "print('Logistic Regression Accuracy - train: {:.4f}, test: {:.4f}'.format(accuracy_train, accuracy_test))"
   ]
  },
  {
   "cell_type": "code",
   "execution_count": null,
   "metadata": {},
   "outputs": [],
   "source": [
    "import torch.nn as nn\n",
    "# Define logistic regression model\n",
    "class LogisticRegressionModel(nn.Module):\n",
    "    def __init__(self):\n",
    "        super(LogisticRegressionModel, self).__init__()\n",
    "        self.linear = nn.Linear(875, 1)\n",
    "        self.sigmoid = nn.Sigmoid()\n",
    "\n",
    "    def forward(self, x):\n",
    "        x = self.linear(x)\n",
    "        x = self.sigmoid(x)\n",
    "        return x\n",
    "\n",
    "# Instantiate the model, loss function, and optimizer\n",
    "model = LogisticRegressionModel()\n",
    "criterion = nn.BCELoss()  # Binary Cross Entropy Loss for binary classification\n",
    "optimizer = torch.optim.Adam(model.parameters(), lr=0.01)\n",
    "\n",
    "# Training loop\n",
    "num_epochs = 2000\n",
    "train_losses, test_losses = [], []\n",
    "for epoch in range(num_epochs):\n",
    "    # Forward pass\n",
    "    outputs = model(x_train_baseline)\n",
    "\n",
    "    # Compute the loss\n",
    "    loss = criterion(outputs, y_train_baseline[:, stim_choice:stim_choice+1])\n",
    "\n",
    "    # Backward pass and optimization\n",
    "    optimizer.zero_grad()\n",
    "    loss.backward()\n",
    "    optimizer.step()\n",
    "    train_losses.append(loss.item())\n",
    "\n",
    "    # Print the loss every 100 epochs\n",
    "    if (epoch + 1) % 100 == 0:\n",
    "        print(f'Epoch [{epoch + 1}/{num_epochs}], Loss: {loss.item():.4f}')\n",
    "\n",
    "    # Test the model\n",
    "    with torch.no_grad():    \n",
    "        predicted_prob = model(x_test_baseline)\n",
    "        test_losses.append(criterion(predicted_prob, y_test_baseline[:, stim_choice:stim_choice+1]).item())\n",
    "        predicted_class = (predicted_prob >= 0.5).float()\n",
    "        accuracy = (predicted_class == y_test_baseline[:, stim_choice:stim_choice+1]).float().mean()\n",
    "print(f'Accuracy: {accuracy.item():.4f}')\n"
   ]
  },
  {
   "cell_type": "code",
   "execution_count": null,
   "metadata": {},
   "outputs": [],
   "source": [
    "plt.plot(train_losses, label='train')\n",
    "plt.plot(test_losses, label='test')\n",
    "plt.legend()"
   ]
  },
  {
   "cell_type": "code",
   "execution_count": null,
   "metadata": {},
   "outputs": [],
   "source": [
    "# log reg coeff\n",
    "# plot coefficients in a 2d grid\n",
    "# c = log_reg.coef_.reshape(-1, 25)\n",
    "# plt.imshow(c)\n",
    "\n",
    "# plot nn coefficients\n",
    "c = model.linear.weight.detach().numpy().reshape(-1, 25)\n",
    "plt.imshow(c)"
   ]
  },
  {
   "cell_type": "code",
   "execution_count": null,
   "metadata": {},
   "outputs": [],
   "source": [
    "# get mean and standard deviation of decoding loss over trials\n",
    "model.eval()\n",
    "# print(\"Total models to study:\", len(test_losses[:10] + test_losses[10::20]))\n",
    "print(\"Total models to study:\", len(test_losses))\n",
    "test_losses_aggregated = []\n",
    "z_agg, x_agg = [], []\n",
    "cov_norm = []\n",
    "cnn_weights = []\n",
    "decoding_runs = 50\n",
    "# for epoch, _ in test_losses[:10] + test_losses[10::20]:\n",
    "for epoch, _ in test_losses:\n",
    "    # print(epoch)\n",
    "    # if epoch != 331:\n",
    "    #     continue\n",
    "    model.load_model(str(epoch))\n",
    "    cur_epoch_loss = []\n",
    "    cur_epoch_z, cur_epoch_x = [], []\n",
    "    with torch.no_grad():\n",
    "        cov_norm_current = []\n",
    "        for _ in range(decoding_runs):\n",
    "            test_loss = []\n",
    "            cur_run_z, cur_run_x = [], []\n",
    "            for _, (behavior_batch, spikes_batch) in enumerate(test_loader):\n",
    "                y_recon, mu, A, z, x, behavior_batch_pred = model(spikes_batch, n_samples=1, use_mean_for_decoding=False)\n",
    "                behavior_loss = model.behavior_decoder.loss(behavior_batch_pred, behavior_batch, z, reduction='none')                \n",
    "                test_loss.append(behavior_loss)\n",
    "                cur_run_z.append(z[:, :, 0])\n",
    "                cur_run_x.append(x[:, :, 0])\n",
    "                cov_norm_current.append(np.linalg.norm(A.numpy()))\n",
    "            # stack horizontally and take mean across samples\n",
    "            test_loss = torch.mean(torch.cat(test_loss, dim=0), dim=0).item()\n",
    "            cur_epoch_loss.append(test_loss)\n",
    "            # stack z and x\n",
    "            z_stacked, x_stacked = torch.cat(cur_run_z, dim=0), torch.cat(cur_run_x, dim=0)            \n",
    "            cur_epoch_z.append(z_stacked)\n",
    "            cur_epoch_x.append(x_stacked)\n",
    "        \n",
    "        test_losses_aggregated.append((epoch, np.mean(cur_epoch_loss), np.std(cur_epoch_loss)))\n",
    "        # compute std for z and x\n",
    "        z_std, x_std = torch.std(torch.stack(cur_epoch_z), dim=0), torch.std(torch.stack(cur_epoch_x), dim=0)        \n",
    "        \n",
    "        z_agg.append((epoch, z_std.mean().item()))\n",
    "        x_agg.append((epoch, x_std.mean().item()))\n",
    "        # cov norm\n",
    "        cov_norm.append((epoch, np.mean(cov_norm_current)))\n",
    "        # cnn weights\n",
    "        cnn_weights.append((epoch, deepcopy(model.behavior_decoder.conv_stim), deepcopy(model.behavior_decoder.conv_choice)))        \n",
    "# # plot histogram\n",
    "# plt.hist(test_loss.numpy(), range=(0, 7), bins=50, density=True)\n",
    "# plt.xlabel('Cross entropy loss')\n",
    "# plt.ylabel('Frequency')\n",
    "# plt.title('Test decoding loss')\n"
   ]
  },
  {
   "cell_type": "code",
   "execution_count": null,
   "metadata": {},
   "outputs": [],
   "source": [
    "# plot mean and std of test loss\n",
    "test_losses_plot = np.array(test_losses_aggregated)\n",
    "# plt.errorbar(test_losses_plot[:, 0], test_losses_plot[:, 1], yerr=test_losses_plot[:, 2])\n",
    "# print(test_losses_plot)\n",
    "plt.plot(test_losses_plot[:, 0], test_losses_plot[:, 1])\n",
    "plt.xlabel('Epoch')\n",
    "plt.ylabel('Cross entropy loss')\n",
    "plt.title('Test decoding loss mean and std over 200 runs at various epochs')"
   ]
  },
  {
   "cell_type": "code",
   "execution_count": null,
   "metadata": {},
   "outputs": [],
   "source": [
    "# plot x and z\n",
    "print(z_agg)\n",
    "z_agg_plot = np.array(z_agg)\n",
    "x_agg_plot = np.array(x_agg)\n",
    "plt.plot(z_agg_plot[:, 0], z_agg_plot[:, 1], label='z')\n",
    "plt.plot(x_agg_plot[:, 0], x_agg_plot[:, 1], label='x')\n",
    "plt.xlabel('Epoch')\n",
    "plt.ylabel('Standard deviation')\n",
    "plt.title('Standard deviation of z and x over 200 runs')\n",
    "plt.legend()"
   ]
  },
  {
   "cell_type": "code",
   "execution_count": null,
   "metadata": {},
   "outputs": [],
   "source": [
    "# plot norm of covariance\n",
    "cov_norm_plot = np.array(cov_norm)\n",
    "plt.plot(cov_norm_plot[:, 0], cov_norm_plot[:, 1])\n",
    "plt.xlabel('Epoch')\n",
    "plt.ylabel('Norm of covariance')"
   ]
  },
  {
   "cell_type": "code",
   "execution_count": null,
   "metadata": {},
   "outputs": [],
   "source": [
    "# examine particular examples\n",
    "# get mean and standard deviation of decoding loss over trials\n",
    "model.eval()\n",
    "print(\"Total models to study:\", len(test_losses))\n",
    "test_losses_aggregated = []\n",
    "decoding_runs = 100\n",
    "for epoch, _ in test_losses[:10] + test_losses[10::20]:\n",
    "    # print(epoch)\n",
    "    model.load_model(str(epoch))\n",
    "    cur_epoch_loss = []    \n",
    "    with torch.no_grad():        \n",
    "        for _ in range(decoding_runs):\n",
    "            test_loss = []\n",
    "            cur_run_z, cur_run_x = [], []\n",
    "            for _, (behavior_batch, spikes_batch) in enumerate(test_loader):\n",
    "                y_recon, (mu, A), (z, x), behavior_batch_pred = model(spikes_batch)\n",
    "                behavior_loss = model.behavior_decoder.loss(behavior_batch_pred, behavior_batch, z, reduction='none')                \n",
    "                test_loss.append(behavior_loss)                \n",
    "            # stack horizontally and take mean across samples\n",
    "            test_loss = torch.cat(test_loss, dim=0)\n",
    "            cur_epoch_loss.append(test_loss)\n",
    "        # stack the losses across decoding runs\n",
    "        cur_epoch_loss = torch.stack(cur_epoch_loss, dim=0)\n",
    "        # compute mean and std of epoch loss across decoding runs\n",
    "        m, s = torch.mean(cur_epoch_loss, dim=0).numpy(), torch.std(cur_epoch_loss, dim=0).numpy()        \n",
    "        test_losses_aggregated.append((epoch, m, s))\n"
   ]
  },
  {
   "cell_type": "code",
   "execution_count": null,
   "metadata": {},
   "outputs": [],
   "source": [
    "for idx in range(15):\n",
    "    epochs = [x[0] for x in test_losses_aggregated]\n",
    "    losses = [x[2][idx] for x in test_losses_aggregated]\n",
    "    plt.plot(epochs, losses)\n",
    "plt.xlabel('Epoch')\n",
    "plt.ylabel('Cross entropy loss')"
   ]
  },
  {
   "cell_type": "code",
   "execution_count": null,
   "metadata": {},
   "outputs": [],
   "source": [
    "# plot norm of change in CNN weights over time\n",
    "cnn_idx = 2\n",
    "base_cnn = cnn_weights[0][cnn_idx]\n",
    "layers_to_study = [(x, base_cnn[x].__module__.split('.')[-1]) for x in range(len(base_cnn)) if isinstance(base_cnn[x], torch.nn.Conv1d) or isinstance(base_cnn[x], torch.nn.BatchNorm1d)]\n",
    "fig, ax1 = plt.subplots()\n",
    "ax2 = ax1.twinx()\n",
    "for layer_idx, name in layers_to_study:    \n",
    "    change_in_norms = []\n",
    "    for i, (epoch, _, cur_cnn) in enumerate(cnn_weights):\n",
    "        if i == 0:\n",
    "            continue\n",
    "        cur_weight = cur_cnn[layer_idx].weight.detach().numpy()\n",
    "        prev_epoch_weights = cnn_weights[i-1][cnn_idx][layer_idx].weight.detach().numpy()        \n",
    "        change_in_norm = np.linalg.norm(cur_weight - prev_epoch_weights)        \n",
    "        # normalize by total number of weights        \n",
    "        change_in_norm /= cur_weight.size\n",
    "        change_in_norms.append((epoch, change_in_norm))\n",
    "    change_in_norms = np.array(change_in_norms)    \n",
    "    ax1.plot(change_in_norms[:, 0], change_in_norms[:, 1], label=name)\n",
    "\n",
    "# plot test_losses_og \n",
    "decoding_loss_only = np.array([(x[0], x[1][1]) for x in test_losses_og])\n",
    "ax2.plot(decoding_loss_only[:, 0], decoding_loss_only[:, 1], '-.', 'b')\n",
    "plt.xlabel('Epoch')\n",
    "ax1.set_ylabel('Norm of change in CNN weights')\n",
    "ax2.set_ylabel('Test loss')\n",
    "plt.title('Norm of change in CNN weights over time')\n",
    "ax1.legend()\n",
    "plt.show()"
   ]
  },
  {
   "cell_type": "code",
   "execution_count": null,
   "metadata": {},
   "outputs": [],
   "source": [
    "print(model.behavior_decoder)\n",
    "# plot the cnn kernel\n",
    "input_cnn = model.behavior_decoder.conv_choice[0].weight.detach().numpy()\n",
    "# make two subplots\n",
    "fig, axs = plt.subplots(2, 1)\n",
    "axs[0].plot(input_cnn[0, 0, :], label='input_c1', color='red')\n",
    "axs[0].plot(input_cnn[1, 0, :], label='input_c2', color='blue')\n",
    "# axs[0].plot(input_cnn[2, 0, :], label='input_c2', color='blue')\n",
    "# axs[0].plot(input_cnn[3, 0, :], label='input_c2', color='blue')\n",
    "\n",
    "middle_cnn = model.behavior_decoder.conv_choice[3].weight.detach().numpy()\n",
    "axs[1].plot(middle_cnn[0, 0, :], label='layer1_c1', color='red')\n",
    "axs[1].plot(middle_cnn[1, 0, :], label='layer2_c2', color='blue')\n",
    "# axs[1].plot(middle_cnn[2, 0, :], label='layer2_c2', color='blue')\n",
    "# axs[1].plot(middle_cnn[3, 0, :], label='layer2_c2', color='blue')\n",
    "# last_cnn = model.behavior_decoder.conv_choice[6].weight.detach().numpy()\n",
    "# axs[2].plot(last_cnn[0, 0, :], label='layer3_c1', color='green')\n",
    "# axs[2].plot(last_cnn[1, 0, :], label='layer3_c2', color='yellow')\n"
   ]
  },
  {
   "cell_type": "code",
   "execution_count": null,
   "metadata": {},
   "outputs": [],
   "source": [
    "# plot energy of spikes\n",
    "# make 4 subplots\n",
    "# for i in range(4):\n",
    "#     idx = np.random.randint(len(spikes))\n",
    "#     spikes_emergy = np.linalg.norm(spikes_np[idx], axis=1, ord=1)\n",
    "#     ax = plt.subplot(2, 2, i+1)\n",
    "#     if i == 0:\n",
    "#         ax.set_title('Energy of spikes for random trials')\n",
    "#     if i == 2:\n",
    "#         ax.set_ylabel('L1 norm of spikes for trial {idx}')\n",
    "#         ax.set_xlabel('Time bin')\n",
    "#     ax.plot(spikes_emergy)\n",
    "spikes_energy = np.linalg.norm(spikes_np, axis=2, ord=1)\n",
    "# plot mean and standard deviation of energy of spikes\n",
    "mean_energy = np.mean(spikes_energy, axis=0)\n",
    "std_energy = np.std(spikes_energy, axis=0)\n",
    "plt.plot(mean_energy)\n",
    "plt.fill_between(np.arange(mean_energy.shape[0]), mean_energy-std_energy, mean_energy+std_energy, alpha=0.3)\n",
    "plt.xlabel('Time bin')\n",
    "plt.ylabel('L1 norm of spikes')\n",
    "plt.title('Mean and standard deviation of energy of spikes')\n"
   ]
  },
  {
   "cell_type": "code",
   "execution_count": null,
   "metadata": {},
   "outputs": [],
   "source": [
    "from sklearn.metrics import accuracy_score\n",
    "# import SVM\n",
    "from sklearn.svm import SVC\n",
    "# import LR\n",
    "from sklearn.linear_model import LogisticRegression\n",
    "# use a SVM/LR model to decode the stimulus and choice\n",
    "# reshape the data\n",
    "# y_recon_train, mu_train, A_train, z_train, x_train, _ = model.forward(spikes_train, n_samples=1)\n",
    "for z_idx in range(3):\n",
    "    print('z_idx: {}'.format(z_idx))\n",
    "    # data_train = (x_train * z_train)[:, :, z_idx].reshape(-1, 25)\n",
    "    # data_test = (x_test * z_test)[:, :, z_idx].reshape(-1, 25)\n",
    "    # data_train = (mu_train)[:, :, z_idx].reshape(-1, 25)\n",
    "    # data_test = (mu_test)[:, :, z_idx].reshape(-1, 25)\n",
    "    data_train = (x_train * z_train).reshape(-1, 75)\n",
    "    data_test = (x_test * z_test).reshape(-1, 75)\n",
    "    for stim_choice_idx in range(2):\n",
    "        print('stim_choice_idx: {}'.format(stim_choice_idx))\n",
    "        y_train = np.tile(behaviour_data_train[:, stim_choice_idx].numpy(), 1)\n",
    "        y_test = np.tile(behaviour_data_test[:, stim_choice_idx].numpy(), 1)\n",
    "        # print(data_train.shape, y_train.shape)\n",
    "        # train the model\n",
    "        log_reg = SVC()\n",
    "        # log_reg = LogisticRegression(penalty='l1', C=1, solver='liblinear')\n",
    "        log_reg.fit(data_train, y_train)\n",
    "        # test accuracy\n",
    "        accuracy_train = accuracy_score(y_train, log_reg.predict(data_train))\n",
    "        accuracy_test = accuracy_score(y_test, log_reg.predict(data_test))\n",
    "        print('{:.4f}/{:.4f}'.format(accuracy_train, accuracy_test))"
   ]
  },
  {
   "cell_type": "code",
   "execution_count": null,
   "metadata": {},
   "outputs": [],
   "source": []
  }
 ],
 "metadata": {
  "kernelspec": {
   "display_name": "base",
   "language": "python",
   "name": "python3"
  },
  "language_info": {
   "codemirror_mode": {
    "name": "ipython",
    "version": 3
   },
   "file_extension": ".py",
   "mimetype": "text/x-python",
   "name": "python",
   "nbconvert_exporter": "python",
   "pygments_lexer": "ipython3",
   "version": "3.10.6"
  },
  "orig_nbformat": 4
 },
 "nbformat": 4,
 "nbformat_minor": 2
}
