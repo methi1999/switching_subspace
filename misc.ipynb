{
 "cells": [
  {
   "cell_type": "code",
   "execution_count": 1,
   "metadata": {},
   "outputs": [],
   "source": [
    "import torch\n",
    "import torch.nn as nn"
   ]
  },
  {
   "cell_type": "code",
   "execution_count": 8,
   "metadata": {},
   "outputs": [],
   "source": [
    "off_diag_elems = torch.randn(3, 4-1)\n",
    "diag_elems = torch.randn(3, 4)"
   ]
  },
  {
   "cell_type": "code",
   "execution_count": 9,
   "metadata": {},
   "outputs": [],
   "source": [
    "# fill elements\n",
    "prec = torch.diag_embed(diag_elems) + torch.diag_embed(off_diag_elems, offset=1, dim1=-2, dim2=-1)\n",
    "# take product of transpose\n",
    "prec1 = torch.bmm(prec.transpose(1, 2), prec)# + eps * torch.eye(prec.shape[-1], device=prec.device)"
   ]
  },
  {
   "cell_type": "code",
   "execution_count": 10,
   "metadata": {},
   "outputs": [],
   "source": [
    "batch, time = diag_elems.shape\n",
    "device = diag_elems.device\n",
    "prec2 = torch.zeros(batch, time, time, device=device)\n",
    "a_2 = diag_elems**2\n",
    "b_2 = torch.cat([torch.zeros(batch, 1, device=device), off_diag_elems**2], dim=1)\n",
    "ab = diag_elems[:, :-1] * off_diag_elems            \n",
    "prec2 += torch.diag_embed(a_2+b_2, dim1=-2, dim2=-1)\n",
    "off_diagonal = torch.diag_embed(ab, offset=1, dim1=-2, dim2=-1)            \n",
    "prec2 += off_diagonal + off_diagonal.transpose(-2, -1)"
   ]
  },
  {
   "cell_type": "code",
   "execution_count": 11,
   "metadata": {},
   "outputs": [
    {
     "name": "stdout",
     "output_type": "stream",
     "text": [
      "tensor(0.)\n"
     ]
    }
   ],
   "source": [
    "# check diff between prec1 and prec2\n",
    "print(torch.norm(prec1 - prec2))"
   ]
  },
  {
   "cell_type": "code",
   "execution_count": null,
   "metadata": {},
   "outputs": [],
   "source": [
    "l = 100\n",
    "d = 5\n",
    "mu1 = torch.zeros(l, d)\n",
    "sigma1 = torch.eye(d, d).repeat(l, 1, 1)\n",
    "mu = torch.randn(l, d)\n",
    "A = torch.tril(torch.randn(l, d, d))\n",
    "# make diagonal positive\n",
    "diag = torch.diagonal(A, dim1=-2, dim2=-1)        \n",
    "diag = nn.Softplus()(diag)\n",
    "# set diag of A to diag\n",
    "A = A - torch.diag_embed(torch.diagonal(A, dim1=-2, dim2=-1)) + torch.diag_embed(diag)"
   ]
  },
  {
   "cell_type": "code",
   "execution_count": null,
   "metadata": {},
   "outputs": [],
   "source": [
    "p = torch.distributions.MultivariateNormal(mu1, scale_tril=sigma1)\n",
    "q = torch.distributions.MultivariateNormal(mu, scale_tril=A)\n",
    "# compute the kl divergence\n",
    "kl_loss = torch.distributions.kl_divergence(q, p).sum()\n",
    "print(kl_loss)"
   ]
  },
  {
   "cell_type": "code",
   "execution_count": null,
   "metadata": {},
   "outputs": [],
   "source": [
    "cov = torch.bmm(A, torch.transpose(A, 1, 2))\n",
    "det = torch.det(cov)\n",
    "kl_loss = 0.5 * torch.sum(torch.sum(mu.pow(2), dim=1) + torch.einsum(\"...ii\", cov) - mu.shape[1] - torch.log(det))\n",
    "print(kl_loss, 'original')"
   ]
  },
  {
   "cell_type": "code",
   "execution_count": null,
   "metadata": {},
   "outputs": [],
   "source": [
    "batch, dim, time = 10, 5, 100\n",
    "bd = torch.randn(batch, time, 2*dim)\n",
    "prec = torch.zeros(batch, dim, time, time)\n",
    "for i in range(dim):\n",
    "    diag_elems = bd[:, :, i]\n",
    "    off_diag_elems = bd[:, :-1, i+dim]\n",
    "    # fill elements\n",
    "    prec[:, i, :, :] = torch.diag_embed(diag_elems) + torch.diag_embed(off_diag_elems, offset=1, dim1=-2, dim2=-1)\n",
    "    prec[:, i, :, :] = torch.bmm(prec[:, i, :, :].transpose(1, 2), prec[:, i, :, :])\n",
    "    print(prec[0, i, :, :])"
   ]
  },
  {
   "cell_type": "code",
   "execution_count": 2,
   "metadata": {},
   "outputs": [],
   "source": [
    "from vae_unimodal import TimeSeries"
   ]
  },
  {
   "cell_type": "code",
   "execution_count": 9,
   "metadata": {},
   "outputs": [],
   "source": [
    "a = TimeSeries(10, 8, 2, 25, False, 1, False, 0.1)"
   ]
  },
  {
   "cell_type": "code",
   "execution_count": 10,
   "metadata": {},
   "outputs": [],
   "source": [
    "y = torch.randn(5, 25, 10)"
   ]
  },
  {
   "cell_type": "code",
   "execution_count": 17,
   "metadata": {},
   "outputs": [
    {
     "name": "stderr",
     "output_type": "stream",
     "text": [
      "/Users/mithileshvaidya/miniforge3/lib/python3.10/site-packages/torch/distributions/distribution.py:167: UserWarning: sample_n will be deprecated. Use .sample((n,)) instead\n",
      "  warnings.warn('sample_n will be deprecated. Use .sample((n,)) instead', UserWarning)\n"
     ]
    },
    {
     "data": {
      "text/plain": [
       "torch.Size([10, 5, 25])"
      ]
     },
     "execution_count": 17,
     "metadata": {},
     "output_type": "execute_result"
    }
   ],
   "source": [
    "out = a.forward(y)\n",
    "out[0].sample_n(10).shape"
   ]
  },
  {
   "cell_type": "code",
   "execution_count": 9,
   "metadata": {},
   "outputs": [
    {
     "name": "stdout",
     "output_type": "stream",
     "text": [
      "tensor([[ 5., -4.,  3., -2.,  1.],\n",
      "        [-4.,  4., -3.,  2., -1.],\n",
      "        [ 3., -3.,  3., -2.,  1.],\n",
      "        [-2.,  2., -2.,  2., -1.],\n",
      "        [ 1., -1.,  1., -1.,  1.]])\n"
     ]
    }
   ],
   "source": [
    "# create matrix with 1 on diagonala and off diagonal\n",
    "a = torch.eye(5, 5)\n",
    "# put 1 on off diagonal\n",
    "a += torch.diag_embed(torch.ones(4), 1)\n",
    "# print(a.T @ a)\n",
    "print(torch.linalg.inv(a.T @ a))"
   ]
  },
  {
   "cell_type": "code",
   "execution_count": 17,
   "metadata": {},
   "outputs": [
    {
     "name": "stdout",
     "output_type": "stream",
     "text": [
      "tensor([[1.0000e+00, 9.8020e-01, 9.2312e-01, 8.3527e-01, 7.2615e-01, 6.0653e-01,\n",
      "         4.8675e-01, 3.7531e-01, 2.7804e-01, 1.9790e-01, 1.3534e-01, 8.8922e-02,\n",
      "         5.6135e-02, 3.4047e-02, 1.9841e-02, 1.1109e-02, 5.9760e-03, 3.0887e-03,\n",
      "         1.5338e-03, 7.3180e-04, 3.3546e-04, 1.4775e-04, 6.2521e-05, 2.5419e-05,\n",
      "         9.9295e-06],\n",
      "        [9.8020e-01, 1.0000e+00, 9.8020e-01, 9.2312e-01, 8.3527e-01, 7.2615e-01,\n",
      "         6.0653e-01, 4.8675e-01, 3.7531e-01, 2.7804e-01, 1.9790e-01, 1.3534e-01,\n",
      "         8.8922e-02, 5.6135e-02, 3.4047e-02, 1.9841e-02, 1.1109e-02, 5.9760e-03,\n",
      "         3.0887e-03, 1.5338e-03, 7.3180e-04, 3.3546e-04, 1.4775e-04, 6.2521e-05,\n",
      "         2.5419e-05],\n",
      "        [9.2312e-01, 9.8020e-01, 1.0000e+00, 9.8020e-01, 9.2312e-01, 8.3527e-01,\n",
      "         7.2615e-01, 6.0653e-01, 4.8675e-01, 3.7531e-01, 2.7804e-01, 1.9790e-01,\n",
      "         1.3534e-01, 8.8922e-02, 5.6135e-02, 3.4047e-02, 1.9841e-02, 1.1109e-02,\n",
      "         5.9760e-03, 3.0887e-03, 1.5338e-03, 7.3180e-04, 3.3546e-04, 1.4775e-04,\n",
      "         6.2521e-05],\n",
      "        [8.3527e-01, 9.2312e-01, 9.8020e-01, 1.0000e+00, 9.8020e-01, 9.2312e-01,\n",
      "         8.3527e-01, 7.2615e-01, 6.0653e-01, 4.8675e-01, 3.7531e-01, 2.7804e-01,\n",
      "         1.9790e-01, 1.3534e-01, 8.8922e-02, 5.6135e-02, 3.4047e-02, 1.9841e-02,\n",
      "         1.1109e-02, 5.9760e-03, 3.0887e-03, 1.5338e-03, 7.3180e-04, 3.3546e-04,\n",
      "         1.4775e-04],\n",
      "        [7.2615e-01, 8.3527e-01, 9.2312e-01, 9.8020e-01, 1.0000e+00, 9.8020e-01,\n",
      "         9.2312e-01, 8.3527e-01, 7.2615e-01, 6.0653e-01, 4.8675e-01, 3.7531e-01,\n",
      "         2.7804e-01, 1.9790e-01, 1.3534e-01, 8.8922e-02, 5.6135e-02, 3.4047e-02,\n",
      "         1.9841e-02, 1.1109e-02, 5.9760e-03, 3.0887e-03, 1.5338e-03, 7.3180e-04,\n",
      "         3.3546e-04],\n",
      "        [6.0653e-01, 7.2615e-01, 8.3527e-01, 9.2312e-01, 9.8020e-01, 1.0000e+00,\n",
      "         9.8020e-01, 9.2312e-01, 8.3527e-01, 7.2615e-01, 6.0653e-01, 4.8675e-01,\n",
      "         3.7531e-01, 2.7804e-01, 1.9790e-01, 1.3534e-01, 8.8922e-02, 5.6135e-02,\n",
      "         3.4047e-02, 1.9841e-02, 1.1109e-02, 5.9760e-03, 3.0887e-03, 1.5338e-03,\n",
      "         7.3180e-04],\n",
      "        [4.8675e-01, 6.0653e-01, 7.2615e-01, 8.3527e-01, 9.2312e-01, 9.8020e-01,\n",
      "         1.0000e+00, 9.8020e-01, 9.2312e-01, 8.3527e-01, 7.2615e-01, 6.0653e-01,\n",
      "         4.8675e-01, 3.7531e-01, 2.7804e-01, 1.9790e-01, 1.3534e-01, 8.8922e-02,\n",
      "         5.6135e-02, 3.4047e-02, 1.9841e-02, 1.1109e-02, 5.9760e-03, 3.0887e-03,\n",
      "         1.5338e-03],\n",
      "        [3.7531e-01, 4.8675e-01, 6.0653e-01, 7.2615e-01, 8.3527e-01, 9.2312e-01,\n",
      "         9.8020e-01, 1.0000e+00, 9.8020e-01, 9.2312e-01, 8.3527e-01, 7.2615e-01,\n",
      "         6.0653e-01, 4.8675e-01, 3.7531e-01, 2.7804e-01, 1.9790e-01, 1.3534e-01,\n",
      "         8.8922e-02, 5.6135e-02, 3.4047e-02, 1.9841e-02, 1.1109e-02, 5.9760e-03,\n",
      "         3.0887e-03],\n",
      "        [2.7804e-01, 3.7531e-01, 4.8675e-01, 6.0653e-01, 7.2615e-01, 8.3527e-01,\n",
      "         9.2312e-01, 9.8020e-01, 1.0000e+00, 9.8020e-01, 9.2312e-01, 8.3527e-01,\n",
      "         7.2615e-01, 6.0653e-01, 4.8675e-01, 3.7531e-01, 2.7804e-01, 1.9790e-01,\n",
      "         1.3534e-01, 8.8922e-02, 5.6135e-02, 3.4047e-02, 1.9841e-02, 1.1109e-02,\n",
      "         5.9760e-03],\n",
      "        [1.9790e-01, 2.7804e-01, 3.7531e-01, 4.8675e-01, 6.0653e-01, 7.2615e-01,\n",
      "         8.3527e-01, 9.2312e-01, 9.8020e-01, 1.0000e+00, 9.8020e-01, 9.2312e-01,\n",
      "         8.3527e-01, 7.2615e-01, 6.0653e-01, 4.8675e-01, 3.7531e-01, 2.7804e-01,\n",
      "         1.9790e-01, 1.3534e-01, 8.8922e-02, 5.6135e-02, 3.4047e-02, 1.9841e-02,\n",
      "         1.1109e-02],\n",
      "        [1.3534e-01, 1.9790e-01, 2.7804e-01, 3.7531e-01, 4.8675e-01, 6.0653e-01,\n",
      "         7.2615e-01, 8.3527e-01, 9.2312e-01, 9.8020e-01, 1.0000e+00, 9.8020e-01,\n",
      "         9.2312e-01, 8.3527e-01, 7.2615e-01, 6.0653e-01, 4.8675e-01, 3.7531e-01,\n",
      "         2.7804e-01, 1.9790e-01, 1.3534e-01, 8.8922e-02, 5.6135e-02, 3.4047e-02,\n",
      "         1.9841e-02],\n",
      "        [8.8922e-02, 1.3534e-01, 1.9790e-01, 2.7804e-01, 3.7531e-01, 4.8675e-01,\n",
      "         6.0653e-01, 7.2615e-01, 8.3527e-01, 9.2312e-01, 9.8020e-01, 1.0000e+00,\n",
      "         9.8020e-01, 9.2312e-01, 8.3527e-01, 7.2615e-01, 6.0653e-01, 4.8675e-01,\n",
      "         3.7531e-01, 2.7804e-01, 1.9790e-01, 1.3534e-01, 8.8922e-02, 5.6135e-02,\n",
      "         3.4047e-02],\n",
      "        [5.6135e-02, 8.8922e-02, 1.3534e-01, 1.9790e-01, 2.7804e-01, 3.7531e-01,\n",
      "         4.8675e-01, 6.0653e-01, 7.2615e-01, 8.3527e-01, 9.2312e-01, 9.8020e-01,\n",
      "         1.0000e+00, 9.8020e-01, 9.2312e-01, 8.3527e-01, 7.2615e-01, 6.0653e-01,\n",
      "         4.8675e-01, 3.7531e-01, 2.7804e-01, 1.9790e-01, 1.3534e-01, 8.8922e-02,\n",
      "         5.6135e-02],\n",
      "        [3.4047e-02, 5.6135e-02, 8.8922e-02, 1.3534e-01, 1.9790e-01, 2.7804e-01,\n",
      "         3.7531e-01, 4.8675e-01, 6.0653e-01, 7.2615e-01, 8.3527e-01, 9.2312e-01,\n",
      "         9.8020e-01, 1.0000e+00, 9.8020e-01, 9.2312e-01, 8.3527e-01, 7.2615e-01,\n",
      "         6.0653e-01, 4.8675e-01, 3.7531e-01, 2.7804e-01, 1.9790e-01, 1.3534e-01,\n",
      "         8.8922e-02],\n",
      "        [1.9841e-02, 3.4047e-02, 5.6135e-02, 8.8922e-02, 1.3534e-01, 1.9790e-01,\n",
      "         2.7804e-01, 3.7531e-01, 4.8675e-01, 6.0653e-01, 7.2615e-01, 8.3527e-01,\n",
      "         9.2312e-01, 9.8020e-01, 1.0000e+00, 9.8020e-01, 9.2312e-01, 8.3527e-01,\n",
      "         7.2615e-01, 6.0653e-01, 4.8675e-01, 3.7531e-01, 2.7804e-01, 1.9790e-01,\n",
      "         1.3534e-01],\n",
      "        [1.1109e-02, 1.9841e-02, 3.4047e-02, 5.6135e-02, 8.8922e-02, 1.3534e-01,\n",
      "         1.9790e-01, 2.7804e-01, 3.7531e-01, 4.8675e-01, 6.0653e-01, 7.2615e-01,\n",
      "         8.3527e-01, 9.2312e-01, 9.8020e-01, 1.0000e+00, 9.8020e-01, 9.2312e-01,\n",
      "         8.3527e-01, 7.2615e-01, 6.0653e-01, 4.8675e-01, 3.7531e-01, 2.7804e-01,\n",
      "         1.9790e-01],\n",
      "        [5.9760e-03, 1.1109e-02, 1.9841e-02, 3.4047e-02, 5.6135e-02, 8.8922e-02,\n",
      "         1.3534e-01, 1.9790e-01, 2.7804e-01, 3.7531e-01, 4.8675e-01, 6.0653e-01,\n",
      "         7.2615e-01, 8.3527e-01, 9.2312e-01, 9.8020e-01, 1.0000e+00, 9.8020e-01,\n",
      "         9.2312e-01, 8.3527e-01, 7.2615e-01, 6.0653e-01, 4.8675e-01, 3.7531e-01,\n",
      "         2.7804e-01],\n",
      "        [3.0887e-03, 5.9760e-03, 1.1109e-02, 1.9841e-02, 3.4047e-02, 5.6135e-02,\n",
      "         8.8922e-02, 1.3534e-01, 1.9790e-01, 2.7804e-01, 3.7531e-01, 4.8675e-01,\n",
      "         6.0653e-01, 7.2615e-01, 8.3527e-01, 9.2312e-01, 9.8020e-01, 1.0000e+00,\n",
      "         9.8020e-01, 9.2312e-01, 8.3527e-01, 7.2615e-01, 6.0653e-01, 4.8675e-01,\n",
      "         3.7531e-01],\n",
      "        [1.5338e-03, 3.0887e-03, 5.9760e-03, 1.1109e-02, 1.9841e-02, 3.4047e-02,\n",
      "         5.6135e-02, 8.8922e-02, 1.3534e-01, 1.9790e-01, 2.7804e-01, 3.7531e-01,\n",
      "         4.8675e-01, 6.0653e-01, 7.2615e-01, 8.3527e-01, 9.2312e-01, 9.8020e-01,\n",
      "         1.0000e+00, 9.8020e-01, 9.2312e-01, 8.3527e-01, 7.2615e-01, 6.0653e-01,\n",
      "         4.8675e-01],\n",
      "        [7.3180e-04, 1.5338e-03, 3.0887e-03, 5.9760e-03, 1.1109e-02, 1.9841e-02,\n",
      "         3.4047e-02, 5.6135e-02, 8.8922e-02, 1.3534e-01, 1.9790e-01, 2.7804e-01,\n",
      "         3.7531e-01, 4.8675e-01, 6.0653e-01, 7.2615e-01, 8.3527e-01, 9.2312e-01,\n",
      "         9.8020e-01, 1.0000e+00, 9.8020e-01, 9.2312e-01, 8.3527e-01, 7.2615e-01,\n",
      "         6.0653e-01],\n",
      "        [3.3546e-04, 7.3180e-04, 1.5338e-03, 3.0887e-03, 5.9760e-03, 1.1109e-02,\n",
      "         1.9841e-02, 3.4047e-02, 5.6135e-02, 8.8922e-02, 1.3534e-01, 1.9790e-01,\n",
      "         2.7804e-01, 3.7531e-01, 4.8675e-01, 6.0653e-01, 7.2615e-01, 8.3527e-01,\n",
      "         9.2312e-01, 9.8020e-01, 1.0000e+00, 9.8020e-01, 9.2312e-01, 8.3527e-01,\n",
      "         7.2615e-01],\n",
      "        [1.4775e-04, 3.3546e-04, 7.3180e-04, 1.5338e-03, 3.0887e-03, 5.9760e-03,\n",
      "         1.1109e-02, 1.9841e-02, 3.4047e-02, 5.6135e-02, 8.8922e-02, 1.3534e-01,\n",
      "         1.9790e-01, 2.7804e-01, 3.7531e-01, 4.8675e-01, 6.0653e-01, 7.2615e-01,\n",
      "         8.3527e-01, 9.2312e-01, 9.8020e-01, 1.0000e+00, 9.8020e-01, 9.2312e-01,\n",
      "         8.3527e-01],\n",
      "        [6.2521e-05, 1.4775e-04, 3.3546e-04, 7.3180e-04, 1.5338e-03, 3.0887e-03,\n",
      "         5.9760e-03, 1.1109e-02, 1.9841e-02, 3.4047e-02, 5.6135e-02, 8.8922e-02,\n",
      "         1.3534e-01, 1.9790e-01, 2.7804e-01, 3.7531e-01, 4.8675e-01, 6.0653e-01,\n",
      "         7.2615e-01, 8.3527e-01, 9.2312e-01, 9.8020e-01, 1.0000e+00, 9.8020e-01,\n",
      "         9.2312e-01],\n",
      "        [2.5419e-05, 6.2521e-05, 1.4775e-04, 3.3546e-04, 7.3180e-04, 1.5338e-03,\n",
      "         3.0887e-03, 5.9760e-03, 1.1109e-02, 1.9841e-02, 3.4047e-02, 5.6135e-02,\n",
      "         8.8922e-02, 1.3534e-01, 1.9790e-01, 2.7804e-01, 3.7531e-01, 4.8675e-01,\n",
      "         6.0653e-01, 7.2615e-01, 8.3527e-01, 9.2312e-01, 9.8020e-01, 1.0000e+00,\n",
      "         9.8020e-01],\n",
      "        [9.9295e-06, 2.5419e-05, 6.2521e-05, 1.4775e-04, 3.3546e-04, 7.3180e-04,\n",
      "         1.5338e-03, 3.0887e-03, 5.9760e-03, 1.1109e-02, 1.9841e-02, 3.4047e-02,\n",
      "         5.6135e-02, 8.8922e-02, 1.3534e-01, 1.9790e-01, 2.7804e-01, 3.7531e-01,\n",
      "         4.8675e-01, 6.0653e-01, 7.2615e-01, 8.3527e-01, 9.2312e-01, 9.8020e-01,\n",
      "         1.0000e+00]])\n"
     ]
    },
    {
     "data": {
      "image/png": "[encoded data removed]",
      "text/plain": [
       "<Figure size 640x480 with 1 Axes>"
      ]
     },
     "metadata": {},
     "output_type": "display_data"
    }
   ],
   "source": [
    "from vae_gp import rbf_kernel\n",
    "import matplotlib.pyplot as plt\n",
    "a = rbf_kernel(25, 5) + 1e-6 * torch.eye(25)\n",
    "plt.imshow(a)\n",
    "# cholesky decomposition\n",
    "L = torch.cholesky(a)"
   ]
  },
  {
   "cell_type": "code",
   "execution_count": 3,
   "metadata": {},
   "outputs": [],
   "source": [
    "from vae_gp_combined import CustomDistribution\n",
    "import torch.distributions as dist\n",
    "import torch"
   ]
  },
  {
   "cell_type": "code",
   "execution_count": 9,
   "metadata": {},
   "outputs": [
    {
     "name": "stdout",
     "output_type": "stream",
     "text": [
      "tensor(215.5961)\n"
     ]
    }
   ],
   "source": [
    "m, a = torch.randn(5, 10), torch.randn(5, 10, 10)\n",
    "a = CustomDistribution(m, a)\n",
    "print(a.kl_divergence_normal())"
   ]
  },
  {
   "cell_type": "code",
   "execution_count": 10,
   "metadata": {},
   "outputs": [],
   "source": [
    "d = dist.MultivariateNormal(m, covariance_matrix=a.get_covariance_matrix())"
   ]
  },
  {
   "cell_type": "code",
   "execution_count": 11,
   "metadata": {},
   "outputs": [
    {
     "name": "stdout",
     "output_type": "stream",
     "text": [
      "tensor(215.5961)\n"
     ]
    }
   ],
   "source": [
    "print(dist.kl_divergence(d, dist.MultivariateNormal(torch.zeros(5, 10), torch.eye(10))).sum())"
   ]
  },
  {
   "cell_type": "code",
   "execution_count": null,
   "metadata": {},
   "outputs": [],
   "source": []
  }
 ],
 "metadata": {
  "kernelspec": {
   "display_name": "base",
   "language": "python",
   "name": "python3"
  },
  "language_info": {
   "codemirror_mode": {
    "name": "ipython",
    "version": 3
   },
   "file_extension": ".py",
   "mimetype": "text/x-python",
   "name": "python",
   "nbconvert_exporter": "python",
   "pygments_lexer": "ipython3",
   "version": "3.10.6"
  },
  "orig_nbformat": 4
 },
 "nbformat": 4,
 "nbformat_minor": 2
}
