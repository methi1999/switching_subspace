{
 "cells": [
  {
   "cell_type": "code",
   "execution_count": 1,
   "metadata": {},
   "outputs": [
    {
     "name": "stdout",
     "output_type": "stream",
     "text": [
      "tensor(7.0162e-07)\n"
     ]
    }
   ],
   "source": [
    "import torch\n",
    "def bidiagonal_inverse_batched(a, b):\n",
    "    # a is of shape batch x n, b is of shape batch x (n-1)\n",
    "    batch, n = a.size()\n",
    "    # b = torch.cat([torch.ones(batch, 1), b_], dim=1)    \n",
    "    theta = torch.zeros(batch, n+1)\n",
    "    phi = torch.zeros(batch, n+1)    \n",
    "    # compute a inverse\n",
    "    a_inv = 1/a\n",
    "    # embed a_inv into diagonal\n",
    "    # inv = torch.diag_embed(a_inv)\n",
    "    inv = torch.zeros(batch, n, n)\n",
    "    for i in range(n):\n",
    "        inv[:, i, i] = a_inv[:, i]\n",
    "    # init\n",
    "    theta[:, 0] = 1\n",
    "    theta[:, 1] = a[:, 0]\n",
    "    # phi[:, n] = 1\n",
    "    # phi[:, n-1] = a[:, n-1]\n",
    "    for i in range(2, n+1):\n",
    "        theta[:, i] = a[:, i-1] * theta[:, i-1]\n",
    "    # for i in range(n-1, 0, -1):\n",
    "    #     phi[:, i] = a[:, i-1] * phi[:, i+1]\n",
    "    # loop over i and j\n",
    "    for j in range(1, n+1):\n",
    "        for i in range(j-1, 0, -1):\n",
    "            # i, j are 1-indexed\n",
    "            inv[:, i-1, j-1] = -b[:, i-1] * inv[:, i, j-1] * theta[:, i-1] / theta[:, i]\n",
    "    return inv\n",
    "            \n",
    "\n",
    "# unit test\n",
    "if __name__ == '__main__':\n",
    "    import torch\n",
    "    diag = torch.randn(2, 3)\n",
    "    off_diag = torch.randn(2, 2)\n",
    "    # embed into a full matrix\n",
    "    mat = torch.diag_embed(diag) + torch.diag_embed(off_diag, offset=1)\n",
    "    # print(mat)\n",
    "    # print(bidiagonal_inverse_batched(diag, off_diag), torch.inverse(mat))\n",
    "    print(torch.norm(bidiagonal_inverse_batched(diag, off_diag) -torch.inverse(mat)))\n",
    "    # print(torch.isclose(bidiagonal_inverse_batched(diag, off_diag), torch.inverse(mat)))\n",
    "    \n"
   ]
  },
  {
   "cell_type": "code",
   "execution_count": 37,
   "metadata": {},
   "outputs": [
    {
     "name": "stdout",
     "output_type": "stream",
     "text": [
      "tensor(0.8214) 0.6931471805599453\n"
     ]
    }
   ],
   "source": [
    "loss_fn = torch.nn.BCELoss(reduction='mean')\n",
    "a = torch.nn.Sigmoid()(torch.randn(100,))\n",
    "b = torch.randint(0, 2, (100,)).float()\n",
    "# print(a, b)\n",
    "loss = loss_fn(a, b)\n",
    "import math\n",
    "print(loss, math.log(2))"
   ]
  },
  {
   "cell_type": "code",
   "execution_count": 1,
   "metadata": {},
   "outputs": [
    {
     "data": {
      "text/plain": [
       "<matplotlib.colorbar.Colorbar at 0x119f3c790>"
      ]
     },
     "execution_count": 1,
     "metadata": {},
     "output_type": "execute_result"
    },
    {
     "data": {
      "image/png": "[encoded data removed]",
      "text/plain": [
       "<Figure size 640x480 with 4 Axes>"
      ]
     },
     "metadata": {},
     "output_type": "display_data"
    }
   ],
   "source": [
    "import torch\n",
    "import matplotlib.pyplot as plt\n",
    "\n",
    "def rbf_kernel(time, sigma):\n",
    "    # sigma is a scalar, time is number of bins\n",
    "    # return kernel of shape (time, time)\n",
    "    time_range = torch.arange(time).unsqueeze(0).float()\n",
    "    time_diff = time_range - time_range.t()\n",
    "    kernel = torch.exp(-time_diff**2 / (2 * sigma**2))    \n",
    "    return kernel\n",
    "\n",
    "def kl_divergence_normal(q_mean, q_cov):        \n",
    "    log_det = torch.logdet(cov)\n",
    "    trace_term = torch.einsum(\"...ii\", cov)\n",
    "                \n",
    "    return 0.5 * torch.sum(torch.sum(q_mean.pow(2), dim=1) + trace_term - q_mean.shape[1] - log_det)\n",
    "    \n",
    "def kl_divergence_any(q_mean, q_cov, p_mean, p_cov, p_inv, p_log_det):\n",
    "    # insert batch dimension for p_cov if not present        \n",
    "    if len(p_inv.shape) == 2:\n",
    "        # repeat p\n",
    "        p_cov = p_cov.unsqueeze(0).repeat(q_mean.shape[0], 1, 1)\n",
    "        p_inv = p_inv.unsqueeze(0).repeat(q_mean.shape[0], 1, 1)\n",
    "        p_log_det = p_log_det.unsqueeze(0).repeat(q_mean.shape[0])     \n",
    "    q_log_det = torch.logdet(q_cov)\n",
    "    log_det_term = p_log_det - q_log_det        \n",
    "    # trace_term = torch.einsum(\"...ii\", torch.bmm(p_inv, q_cov))\n",
    "    # print(p_cov.shape, q_cov.shape)\n",
    "    trace_term = torch.einsum(\"...ii\", torch.linalg.solve(p_cov, q_cov))        \n",
    "            \n",
    "    diff_term = (q_mean - p_mean).unsqueeze(-1)\n",
    "    # print(diff_term.shape)\n",
    "    # mu_term = torch.sum(torch.bmm(diff_term.transpose(1, 2), torch.bmm(p_inv, diff_term)))        \n",
    "    mu_term = torch.sum(diff_term * torch.linalg.solve(p_cov, diff_term))        \n",
    "    \n",
    "    return 0.5 * torch.sum(log_det_term - q_mean.shape[1] + trace_term + mu_term)\n",
    "\n",
    "# A = torch.randn(1, 25, 25)\n",
    "# cov = torch.bmm(A, A.transpose(1, 2))\n",
    "# mean = torch.randn(1, 25)\n",
    "# print(kl_divergence_normal(mean, cov))\n",
    "# kernel = 0.9*rbf_kernel(25, 0.001) + 0.1 * torch.eye(25)\n",
    "# print(kl_divergence_any(mean, cov, 0, kernel, torch.inverse(kernel), torch.logdet(kernel)))\n",
    "a = rbf_kernel(25, 3) + 0.5 * torch.eye(25) \n",
    "inverse = torch.inverse(a)\n",
    "plt.subplot(2, 1, 1)\n",
    "plt.imshow(a)\n",
    "plt.title(\"Original: RBF(3) + 0.5 * I\")\n",
    "plt.colorbar()\n",
    "plt.subplot(2, 1, 2)\n",
    "plt.imshow(inverse)\n",
    "plt.title(\"Inverse\")\n",
    "plt.tight_layout()\n",
    "plt.colorbar()\n"
   ]
  },
  {
   "cell_type": "code",
   "execution_count": null,
   "metadata": {},
   "outputs": [],
   "source": [
    "import sklearn.gaussian_process as gp\n",
    "import pickle\n",
    "import numpy as np\n",
    "import matplotlib.pyplot as plt\n",
    "import matplotlib"
   ]
  },
  {
   "cell_type": "code",
   "execution_count": null,
   "metadata": {},
   "outputs": [],
   "source": [
    "# read pkl data of z files\n",
    "# with open('z_data.pkl', 'rb') as f:\n",
    "with open('z_presoftmax.pkl', 'rb') as f:\n",
    "    z_tr, z_te = pickle.load(f)\n",
    "a = np.concatenate([z_tr, z_te], axis=0)"
   ]
  },
  {
   "cell_type": "code",
   "execution_count": null,
   "metadata": {},
   "outputs": [],
   "source": [
    "# plot trial-averaged z\n",
    "plt.figure()\n",
    "plt.plot(np.mean(a, axis=0))\n",
    "plt.title('Trial-averaged z pre-softmax')\n",
    "plt.show()"
   ]
  },
  {
   "cell_type": "code",
   "execution_count": null,
   "metadata": {},
   "outputs": [],
   "source": [
    "z = a[:, :, 1:2]\n",
    "# time_test = np.array([4, 9, 14, 19, 24])\n",
    "# time_train = np.array([0, 1, 2, 3, 5, 6, 7, 8, 10, 11, 12, 13, 15, 16, 17, 18, 20, 21, 22, 23])\n",
    "time_test = np.sort(np.random.choice(25, 5, replace=False))\n",
    "time_train = np.sort(np.setdiff1d(np.arange(25), time_test))\n",
    "# print(time_test)\n",
    "time_all = np.arange(25)\n",
    "alpha_l = [1e-3, 1e-2, 1e-1, 0.5, 1.0, 1.5, 10]\n",
    "length_l = [0.01, 0.1, 1, 2, 5, 10, 20, 40]"
   ]
  },
  {
   "cell_type": "code",
   "execution_count": null,
   "metadata": {},
   "outputs": [],
   "source": [
    "# set up the GP model\n",
    "results = {}\n",
    "for alpha in alpha_l:\n",
    "    for l_scale in length_l:\n",
    "        rbf_kernel = gp.kernels.RBF(l_scale, length_scale_bounds='fixed')\n",
    "        res = []\n",
    "        for sample in range(len(z)):\n",
    "            x_train, x_test = z[sample][time_train], z[sample][time_test]\n",
    "            gp_model = gp.GaussianProcessRegressor(kernel=rbf_kernel, alpha=alpha).fit(time_train[:, np.newaxis], x_train)\n",
    "            model_score = gp_model.score(time_test[:, np.newaxis], x_test)        \n",
    "            res.append(model_score)\n",
    "        results[(alpha, l_scale)] = np.mean(res)"
   ]
  },
  {
   "cell_type": "code",
   "execution_count": null,
   "metadata": {},
   "outputs": [],
   "source": [
    "# plot on a 2d grid\n",
    "fig, ax = plt.subplots()\n",
    "cax = ax.matshow(np.array([[results[(alpha, l_scale)] for l_scale in length_l] for alpha in alpha_l]), cmap='hot')\n",
    "# annotate with values\n",
    "for i in range(len(alpha_l)):\n",
    "    for j in range(len(length_l)):        \n",
    "        # highlight the best value\n",
    "        if results[(alpha_l[i], length_l[j])] == np.max([results[(alpha, l_scale)] for alpha in alpha_l for l_scale in length_l]):\n",
    "            ax.text(j, i, round(results[(alpha_l[i], length_l[j])], 2), ha='center', va='center', color='blue')\n",
    "        else:\n",
    "            ax.text(j, i, round(results[(alpha_l[i], length_l[j])], 2), ha='center', va='center', color='green')\n",
    "fig.colorbar(cax)\n",
    "plt.xticks(np.arange(len(length_l)), length_l)\n",
    "plt.yticks(np.arange(len(alpha_l)), alpha_l)\n",
    "plt.xlabel('length scale')\n",
    "plt.ylabel('alpha')\n",
    "plt.title('R^2 score averaged across trials')\n",
    "plt.show()"
   ]
  },
  {
   "cell_type": "code",
   "execution_count": null,
   "metadata": {},
   "outputs": [],
   "source": [
    "# plot 4 random trials\n",
    "length_scale, alpha = 2, 0.1\n",
    "fig, axs = plt.subplots(3, 3, figsize=(9, 9))\n",
    "# z_idxs = np.random.randint(len(z), size=9)\n",
    "z_idxs = np.arange(9)\n",
    "rbf_kernel = gp.kernels.RBF(length_scale, length_scale_bounds='fixed')\n",
    "for i, z_idx in enumerate(z_idxs):        \n",
    "    gp_model = gp.GaussianProcessRegressor(kernel=rbf_kernel, alpha=alpha, normalize_y=True)    \n",
    "    gp_model.fit(time_train[:, np.newaxis], z[z_idx][time_train])\n",
    "    # model_score = gp_model.score(time, Y)\n",
    "    # print(f'alpha=0.1, model_score={model_score}')\n",
    "    # plot std\n",
    "    predictions, std = gp_model.predict(time_all[:, np.newaxis], return_std=True)\n",
    "    plt.subplot(3, 3, i + 1)\n",
    "    plt.plot(time_all, predictions, marker='o', label='prediction')\n",
    "    plt.fill_between(time_all, predictions - std, predictions + std, alpha=0.2)\n",
    "    plt.plot(z[z_idx], marker='x', label='true')\n",
    "plt.legend()"
   ]
  },
  {
   "cell_type": "code",
   "execution_count": null,
   "metadata": {},
   "outputs": [],
   "source": [
    "X = np.random.uniform(-10.,10.,(100,1))\n",
    "y = np.sin(X) + np.random.randn(100,1)*0.05\n",
    "rbf_kernel = gp.kernels.RBF(0.1, length_scale_bounds=(1e-2, 1e2))\n",
    "gp_model = gp.GaussianProcessRegressor(kernel=rbf_kernel, optimizer='fmin_l_bfgs_b', alpha=0.1).fit(X, y)\n",
    "print(gp_model.kernel_)"
   ]
  },
  {
   "cell_type": "code",
   "execution_count": null,
   "metadata": {},
   "outputs": [],
   "source": [
    "predictions, std = gp_model.predict(X, return_std=True)\n",
    "plt.scatter(X, predictions, marker='o', label='prediction')\n",
    "plt.scatter(X, y, marker='x', label='true')\n",
    "plt.legend()\n",
    "plt.show()"
   ]
  },
  {
   "cell_type": "code",
   "execution_count": null,
   "metadata": {},
   "outputs": [],
   "source": [
    "import torch\n",
    "import torch.nn as nn\n",
    "import matplotlib.pyplot as plt"
   ]
  },
  {
   "cell_type": "code",
   "execution_count": null,
   "metadata": {},
   "outputs": [],
   "source": [
    "off_diag_elems = torch.ones(3)\n",
    "diag_elems = torch.ones(4)"
   ]
  },
  {
   "cell_type": "code",
   "execution_count": null,
   "metadata": {},
   "outputs": [],
   "source": [
    "# fill elements\n",
    "prec = torch.diag_embed(diag_elems) + torch.diag_embed(off_diag_elems, offset=1, dim1=-2, dim2=-1)\n",
    "# cov = torch.inverse(prec)\n",
    "# plt.imshow()\n",
    "print(prec, prec @ prec.transpose(-1, -2))"
   ]
  },
  {
   "cell_type": "code",
   "execution_count": null,
   "metadata": {},
   "outputs": [],
   "source": [
    "batch, time = diag_elems.shape\n",
    "device = diag_elems.device\n",
    "prec2 = torch.zeros(batch, time, time, device=device)\n",
    "a_2 = diag_elems**2\n",
    "b_2 = torch.cat([torch.zeros(batch, 1, device=device), off_diag_elems**2], dim=1)\n",
    "ab = diag_elems[:, :-1] * off_diag_elems            \n",
    "prec2 += torch.diag_embed(a_2+b_2, dim1=-2, dim2=-1)\n",
    "off_diagonal = torch.diag_embed(ab, offset=1, dim1=-2, dim2=-1)            \n",
    "prec2 += off_diagonal + off_diagonal.transpose(-2, -1)"
   ]
  },
  {
   "cell_type": "code",
   "execution_count": null,
   "metadata": {},
   "outputs": [],
   "source": [
    "# check diff between prec1 and prec2\n",
    "print(torch.norm(prec1 - prec2))"
   ]
  },
  {
   "cell_type": "code",
   "execution_count": null,
   "metadata": {},
   "outputs": [],
   "source": [
    "l = 100\n",
    "d = 5\n",
    "mu1 = torch.zeros(l, d)\n",
    "sigma1 = torch.eye(d, d).repeat(l, 1, 1)\n",
    "mu = torch.randn(l, d)\n",
    "A = torch.tril(torch.randn(l, d, d))\n",
    "# make diagonal positive\n",
    "diag = torch.diagonal(A, dim1=-2, dim2=-1)        \n",
    "diag = nn.Softplus()(diag)\n",
    "# set diag of A to diag\n",
    "A = A - torch.diag_embed(torch.diagonal(A, dim1=-2, dim2=-1)) + torch.diag_embed(diag)"
   ]
  },
  {
   "cell_type": "code",
   "execution_count": null,
   "metadata": {},
   "outputs": [],
   "source": [
    "p = torch.distributions.MultivariateNormal(mu1, scale_tril=sigma1)\n",
    "q = torch.distributions.MultivariateNormal(mu, scale_tril=A)\n",
    "# compute the kl divergence\n",
    "kl_loss = torch.distributions.kl_divergence(q, p).sum()\n",
    "print(kl_loss)"
   ]
  },
  {
   "cell_type": "code",
   "execution_count": null,
   "metadata": {},
   "outputs": [],
   "source": [
    "cov = torch.bmm(A, torch.transpose(A, 1, 2))\n",
    "det = torch.det(cov)\n",
    "kl_loss = 0.5 * torch.sum(torch.sum(mu.pow(2), dim=1) + torch.einsum(\"...ii\", cov) - mu.shape[1] - torch.log(det))\n",
    "print(kl_loss, 'original')"
   ]
  },
  {
   "cell_type": "code",
   "execution_count": null,
   "metadata": {},
   "outputs": [],
   "source": [
    "batch, dim, time = 10, 5, 100\n",
    "bd = torch.randn(batch, time, 2*dim)\n",
    "prec = torch.zeros(batch, dim, time, time)\n",
    "for i in range(dim):\n",
    "    diag_elems = bd[:, :, i]\n",
    "    off_diag_elems = bd[:, :-1, i+dim]\n",
    "    # fill elements\n",
    "    prec[:, i, :, :] = torch.diag_embed(diag_elems) + torch.diag_embed(off_diag_elems, offset=1, dim1=-2, dim2=-1)\n",
    "    prec[:, i, :, :] = torch.bmm(prec[:, i, :, :].transpose(1, 2), prec[:, i, :, :])\n",
    "    print(prec[0, i, :, :])"
   ]
  },
  {
   "cell_type": "code",
   "execution_count": null,
   "metadata": {},
   "outputs": [],
   "source": [
    "from vae_unimodal import TimeSeries"
   ]
  },
  {
   "cell_type": "code",
   "execution_count": null,
   "metadata": {},
   "outputs": [],
   "source": [
    "a = TimeSeries(10, 8, 2, 25, False, 1, False, 0.1)"
   ]
  },
  {
   "cell_type": "code",
   "execution_count": null,
   "metadata": {},
   "outputs": [],
   "source": [
    "y = torch.randn(5, 25, 10)"
   ]
  },
  {
   "cell_type": "code",
   "execution_count": null,
   "metadata": {},
   "outputs": [],
   "source": [
    "out = a.forward(y)\n",
    "out[0].sample_n(10).shape"
   ]
  },
  {
   "cell_type": "code",
   "execution_count": null,
   "metadata": {},
   "outputs": [],
   "source": [
    "# create matrix with 1 on diagonala and off diagonal\n",
    "a = torch.eye(5, 5)\n",
    "# put 1 on off diagonal\n",
    "a += torch.diag_embed(torch.ones(4), 1)\n",
    "# print(a.T @ a)\n",
    "print(torch.linalg.inv(a.T @ a))"
   ]
  },
  {
   "cell_type": "code",
   "execution_count": null,
   "metadata": {},
   "outputs": [],
   "source": [
    "from vae_gp import rbf_kernel\n",
    "import matplotlib.pyplot as plt\n",
    "import torch\n",
    "a = rbf_kernel(25, 2) + 1e-2 * torch.eye(25)\n",
    "b = torch.linalg.inv(a)\n",
    "plt.imshow(b)\n",
    "plt.colorbar()\n",
    "# print(b)\n"
   ]
  },
  {
   "cell_type": "code",
   "execution_count": null,
   "metadata": {},
   "outputs": [],
   "source": [
    "from vae_gp_combined import CustomDistribution\n",
    "import torch.distributions as dist\n",
    "import torch"
   ]
  },
  {
   "cell_type": "code",
   "execution_count": null,
   "metadata": {},
   "outputs": [],
   "source": [
    "m, a = torch.randn(5, 10), torch.randn(5, 10, 10)\n",
    "a = CustomDistribution(m, a)\n",
    "print(a.kl_divergence_normal())"
   ]
  },
  {
   "cell_type": "code",
   "execution_count": null,
   "metadata": {},
   "outputs": [],
   "source": [
    "d = dist.MultivariateNormal(m, covariance_matrix=a.get_covariance_matrix())"
   ]
  },
  {
   "cell_type": "code",
   "execution_count": null,
   "metadata": {},
   "outputs": [],
   "source": [
    "print(dist.kl_divergence(d, dist.MultivariateNormal(torch.zeros(5, 10), torch.eye(10))).sum())"
   ]
  },
  {
   "cell_type": "code",
   "execution_count": null,
   "metadata": {},
   "outputs": [],
   "source": [
    "from vae_gp import derivative_time_series\n",
    "import torch\n",
    "import matplotlib.pyplot as plt\n",
    "# sine wave of 10 points\n",
    "x = torch.linspace(0, 1, 10)\n",
    "y = torch.sin(3.14 * x).unsqueeze(0).unsqueeze(-1)"
   ]
  },
  {
   "cell_type": "code",
   "execution_count": null,
   "metadata": {},
   "outputs": [],
   "source": [
    "dx = derivative_time_series(y)\n",
    "plt.plot(y[0, :, 0].numpy())\n",
    "plt.plot(dx[0, :, 0].numpy())\n",
    "plt.show()"
   ]
  },
  {
   "cell_type": "code",
   "execution_count": null,
   "metadata": {},
   "outputs": [],
   "source": [
    "\n",
    "batch_size, z_size, time_length = 1, 2, 10\n",
    "mapped = torch.randn(batch_size, time_length, 3*z_size)\n",
    "# Obtain mean and precision matrix components\n",
    "num_dim = len(mapped.shape)\n",
    "perm = list(range(num_dim - 2)) + [num_dim - 1, num_dim - 2]\n",
    "mapped_transposed = mapped.permute(perm)\n",
    "mapped_mean = mapped_transposed[:, :z_size]\n",
    "mapped_covar = mapped_transposed[:, z_size:]\n",
    "\n",
    "mapped_covar = torch.nn.functional.softplus(mapped_covar)\n",
    "\n",
    "mapped_reshaped = mapped_covar.reshape(batch_size, z_size, 2 * time_length)\n",
    "\n",
    "dense_shape = [batch_size, z_size, time_length, time_length]\n",
    "idxs_1 = torch.repeat_interleave(torch.arange(batch_size), z_size * (2 * time_length - 1))\n",
    "idxs_2 = torch.tile(torch.repeat_interleave(torch.arange(z_size), (2 * time_length - 1)), dims=(batch_size,))\n",
    "idxs_3 = torch.tile(torch.cat([torch.arange(time_length), torch.arange(time_length - 1)]), dims=(batch_size * z_size,))\n",
    "idxs_4 = torch.tile(torch.cat([torch.arange(time_length), torch.arange(1, time_length)]), dims=(batch_size * z_size,))\n",
    "idxs_all = torch.stack([idxs_1, idxs_2, idxs_3, idxs_4], dim=1)\n",
    "\n",
    "# Obtain covariance matrix from precision one\n",
    "mapped_values = mapped_reshaped[:, :, :-1].reshape(-1)\n",
    "prec_sparse = torch.sparse_coo_tensor(idxs_all.T, mapped_values, dense_shape)\n",
    "prec_tril = prec_sparse.to_dense() + torch.eye(prec_sparse.size(-1), device=prec_sparse.device)\n",
    "cov_tril = torch.linalg.solve(prec_tril, torch.eye(prec_tril.size(-1), device=prec_tril.device))\n",
    "cov_tril = torch.where(torch.isfinite(cov_tril), cov_tril, torch.zeros_like(cov_tril))"
   ]
  },
  {
   "cell_type": "code",
   "execution_count": null,
   "metadata": {},
   "outputs": [],
   "source": [
    "# prec_sparse.to_dense()\n",
    "torch.norm(prec_tril @ cov_tril - torch.eye(prec_tril.size(-1)))"
   ]
  },
  {
   "cell_type": "code",
   "execution_count": null,
   "metadata": {},
   "outputs": [],
   "source": [
    "import matplotlib.pyplot as plt\n",
    "plt.imshow(cov_tril[0, 0])\n",
    "plt.show()"
   ]
  },
  {
   "cell_type": "code",
   "execution_count": null,
   "metadata": {},
   "outputs": [],
   "source": []
  }
 ],
 "metadata": {
  "kernelspec": {
   "display_name": "base",
   "language": "python",
   "name": "python3"
  },
  "language_info": {
   "codemirror_mode": {
    "name": "ipython",
    "version": 3
   },
   "file_extension": ".py",
   "mimetype": "text/x-python",
   "name": "python",
   "nbconvert_exporter": "python",
   "pygments_lexer": "ipython3",
   "version": "3.10.6"
  },
  "orig_nbformat": 4
 },
 "nbformat": 4,
 "nbformat_minor": 2
}
