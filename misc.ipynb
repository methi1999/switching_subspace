{
 "cells": [
  {
   "cell_type": "code",
   "execution_count": 2,
   "metadata": {},
   "outputs": [],
   "source": [
    "import torch\n",
    "import torch.nn as nn\n",
    "import matplotlib.pyplot as plt"
   ]
  },
  {
   "cell_type": "code",
   "execution_count": 3,
   "metadata": {},
   "outputs": [],
   "source": [
    "off_diag_elems = torch.ones(3)\n",
    "diag_elems = torch.ones(4)"
   ]
  },
  {
   "cell_type": "code",
   "execution_count": 5,
   "metadata": {},
   "outputs": [
    {
     "name": "stdout",
     "output_type": "stream",
     "text": [
      "tensor([[1., 1., 0., 0.],\n",
      "        [0., 1., 1., 0.],\n",
      "        [0., 0., 1., 1.],\n",
      "        [0., 0., 0., 1.]]) tensor([[2., 1., 0., 0.],\n",
      "        [1., 2., 1., 0.],\n",
      "        [0., 1., 2., 1.],\n",
      "        [0., 0., 1., 1.]])\n"
     ]
    }
   ],
   "source": [
    "# fill elements\n",
    "prec = torch.diag_embed(diag_elems) + torch.diag_embed(off_diag_elems, offset=1, dim1=-2, dim2=-1)\n",
    "# cov = torch.inverse(prec)\n",
    "# plt.imshow()\n",
    "print(prec, prec @ prec.transpose(-1, -2))"
   ]
  },
  {
   "cell_type": "code",
   "execution_count": 10,
   "metadata": {},
   "outputs": [],
   "source": [
    "batch, time = diag_elems.shape\n",
    "device = diag_elems.device\n",
    "prec2 = torch.zeros(batch, time, time, device=device)\n",
    "a_2 = diag_elems**2\n",
    "b_2 = torch.cat([torch.zeros(batch, 1, device=device), off_diag_elems**2], dim=1)\n",
    "ab = diag_elems[:, :-1] * off_diag_elems            \n",
    "prec2 += torch.diag_embed(a_2+b_2, dim1=-2, dim2=-1)\n",
    "off_diagonal = torch.diag_embed(ab, offset=1, dim1=-2, dim2=-1)            \n",
    "prec2 += off_diagonal + off_diagonal.transpose(-2, -1)"
   ]
  },
  {
   "cell_type": "code",
   "execution_count": 11,
   "metadata": {},
   "outputs": [
    {
     "name": "stdout",
     "output_type": "stream",
     "text": [
      "tensor(0.)\n"
     ]
    }
   ],
   "source": [
    "# check diff between prec1 and prec2\n",
    "print(torch.norm(prec1 - prec2))"
   ]
  },
  {
   "cell_type": "code",
   "execution_count": null,
   "metadata": {},
   "outputs": [],
   "source": [
    "l = 100\n",
    "d = 5\n",
    "mu1 = torch.zeros(l, d)\n",
    "sigma1 = torch.eye(d, d).repeat(l, 1, 1)\n",
    "mu = torch.randn(l, d)\n",
    "A = torch.tril(torch.randn(l, d, d))\n",
    "# make diagonal positive\n",
    "diag = torch.diagonal(A, dim1=-2, dim2=-1)        \n",
    "diag = nn.Softplus()(diag)\n",
    "# set diag of A to diag\n",
    "A = A - torch.diag_embed(torch.diagonal(A, dim1=-2, dim2=-1)) + torch.diag_embed(diag)"
   ]
  },
  {
   "cell_type": "code",
   "execution_count": null,
   "metadata": {},
   "outputs": [],
   "source": [
    "p = torch.distributions.MultivariateNormal(mu1, scale_tril=sigma1)\n",
    "q = torch.distributions.MultivariateNormal(mu, scale_tril=A)\n",
    "# compute the kl divergence\n",
    "kl_loss = torch.distributions.kl_divergence(q, p).sum()\n",
    "print(kl_loss)"
   ]
  },
  {
   "cell_type": "code",
   "execution_count": null,
   "metadata": {},
   "outputs": [],
   "source": [
    "cov = torch.bmm(A, torch.transpose(A, 1, 2))\n",
    "det = torch.det(cov)\n",
    "kl_loss = 0.5 * torch.sum(torch.sum(mu.pow(2), dim=1) + torch.einsum(\"...ii\", cov) - mu.shape[1] - torch.log(det))\n",
    "print(kl_loss, 'original')"
   ]
  },
  {
   "cell_type": "code",
   "execution_count": null,
   "metadata": {},
   "outputs": [],
   "source": [
    "batch, dim, time = 10, 5, 100\n",
    "bd = torch.randn(batch, time, 2*dim)\n",
    "prec = torch.zeros(batch, dim, time, time)\n",
    "for i in range(dim):\n",
    "    diag_elems = bd[:, :, i]\n",
    "    off_diag_elems = bd[:, :-1, i+dim]\n",
    "    # fill elements\n",
    "    prec[:, i, :, :] = torch.diag_embed(diag_elems) + torch.diag_embed(off_diag_elems, offset=1, dim1=-2, dim2=-1)\n",
    "    prec[:, i, :, :] = torch.bmm(prec[:, i, :, :].transpose(1, 2), prec[:, i, :, :])\n",
    "    print(prec[0, i, :, :])"
   ]
  },
  {
   "cell_type": "code",
   "execution_count": 2,
   "metadata": {},
   "outputs": [],
   "source": [
    "from vae_unimodal import TimeSeries"
   ]
  },
  {
   "cell_type": "code",
   "execution_count": 9,
   "metadata": {},
   "outputs": [],
   "source": [
    "a = TimeSeries(10, 8, 2, 25, False, 1, False, 0.1)"
   ]
  },
  {
   "cell_type": "code",
   "execution_count": 10,
   "metadata": {},
   "outputs": [],
   "source": [
    "y = torch.randn(5, 25, 10)"
   ]
  },
  {
   "cell_type": "code",
   "execution_count": 17,
   "metadata": {},
   "outputs": [
    {
     "name": "stderr",
     "output_type": "stream",
     "text": [
      "/Users/mithileshvaidya/miniforge3/lib/python3.10/site-packages/torch/distributions/distribution.py:167: UserWarning: sample_n will be deprecated. Use .sample((n,)) instead\n",
      "  warnings.warn('sample_n will be deprecated. Use .sample((n,)) instead', UserWarning)\n"
     ]
    },
    {
     "data": {
      "text/plain": [
       "torch.Size([10, 5, 25])"
      ]
     },
     "execution_count": 17,
     "metadata": {},
     "output_type": "execute_result"
    }
   ],
   "source": [
    "out = a.forward(y)\n",
    "out[0].sample_n(10).shape"
   ]
  },
  {
   "cell_type": "code",
   "execution_count": 9,
   "metadata": {},
   "outputs": [
    {
     "name": "stdout",
     "output_type": "stream",
     "text": [
      "tensor([[ 5., -4.,  3., -2.,  1.],\n",
      "        [-4.,  4., -3.,  2., -1.],\n",
      "        [ 3., -3.,  3., -2.,  1.],\n",
      "        [-2.,  2., -2.,  2., -1.],\n",
      "        [ 1., -1.,  1., -1.,  1.]])\n"
     ]
    }
   ],
   "source": [
    "# create matrix with 1 on diagonala and off diagonal\n",
    "a = torch.eye(5, 5)\n",
    "# put 1 on off diagonal\n",
    "a += torch.diag_embed(torch.ones(4), 1)\n",
    "# print(a.T @ a)\n",
    "print(torch.linalg.inv(a.T @ a))"
   ]
  },
  {
   "cell_type": "code",
   "execution_count": 3,
   "metadata": {},
   "outputs": [
    {
     "data": {
      "text/plain": [
       "<matplotlib.image.AxesImage at 0x1305fa770>"
      ]
     },
     "execution_count": 3,
     "metadata": {},
     "output_type": "execute_result"
    },
    {
     "data": {
      "image/png": "[encoded data removed]",
      "text/plain": [
       "<Figure size 640x480 with 1 Axes>"
      ]
     },
     "metadata": {},
     "output_type": "display_data"
    }
   ],
   "source": [
    "from vae_gp import rbf_kernel\n",
    "import matplotlib.pyplot as plt\n",
    "import torch\n",
    "a = rbf_kernel(25, 7) + 1e-6 * torch.eye(25)\n",
    "plt.imshow(a)"
   ]
  },
  {
   "cell_type": "code",
   "execution_count": 3,
   "metadata": {},
   "outputs": [],
   "source": [
    "from vae_gp_combined import CustomDistribution\n",
    "import torch.distributions as dist\n",
    "import torch"
   ]
  },
  {
   "cell_type": "code",
   "execution_count": 9,
   "metadata": {},
   "outputs": [
    {
     "name": "stdout",
     "output_type": "stream",
     "text": [
      "tensor(215.5961)\n"
     ]
    }
   ],
   "source": [
    "m, a = torch.randn(5, 10), torch.randn(5, 10, 10)\n",
    "a = CustomDistribution(m, a)\n",
    "print(a.kl_divergence_normal())"
   ]
  },
  {
   "cell_type": "code",
   "execution_count": 10,
   "metadata": {},
   "outputs": [],
   "source": [
    "d = dist.MultivariateNormal(m, covariance_matrix=a.get_covariance_matrix())"
   ]
  },
  {
   "cell_type": "code",
   "execution_count": 11,
   "metadata": {},
   "outputs": [
    {
     "name": "stdout",
     "output_type": "stream",
     "text": [
      "tensor(215.5961)\n"
     ]
    }
   ],
   "source": [
    "print(dist.kl_divergence(d, dist.MultivariateNormal(torch.zeros(5, 10), torch.eye(10))).sum())"
   ]
  },
  {
   "cell_type": "code",
   "execution_count": 9,
   "metadata": {},
   "outputs": [],
   "source": [
    "from vae_gp import derivative_time_series\n",
    "import torch\n",
    "import matplotlib.pyplot as plt\n",
    "# sine wave of 10 points\n",
    "x = torch.linspace(0, 1, 10)\n",
    "y = torch.sin(3.14 * x).unsqueeze(0).unsqueeze(-1)"
   ]
  },
  {
   "cell_type": "code",
   "execution_count": 10,
   "metadata": {},
   "outputs": [
    {
     "data": {
      "image/png": "[encoded data removed]",
      "text/plain": [
       "<Figure size 640x480 with 1 Axes>"
      ]
     },
     "metadata": {},
     "output_type": "display_data"
    }
   ],
   "source": [
    "dx = derivative_time_series(y)\n",
    "plt.plot(y[0, :, 0].numpy())\n",
    "plt.plot(dx[0, :, 0].numpy())\n",
    "plt.show()"
   ]
  },
  {
   "cell_type": "code",
   "execution_count": 13,
   "metadata": {},
   "outputs": [],
   "source": [
    "\n",
    "batch_size, z_size, time_length = 1, 2, 10\n",
    "mapped = torch.randn(batch_size, time_length, 3*z_size)\n",
    "# Obtain mean and precision matrix components\n",
    "num_dim = len(mapped.shape)\n",
    "perm = list(range(num_dim - 2)) + [num_dim - 1, num_dim - 2]\n",
    "mapped_transposed = mapped.permute(perm)\n",
    "mapped_mean = mapped_transposed[:, :z_size]\n",
    "mapped_covar = mapped_transposed[:, z_size:]\n",
    "\n",
    "mapped_covar = torch.nn.functional.softplus(mapped_covar)\n",
    "\n",
    "mapped_reshaped = mapped_covar.reshape(batch_size, z_size, 2 * time_length)\n",
    "\n",
    "dense_shape = [batch_size, z_size, time_length, time_length]\n",
    "idxs_1 = torch.repeat_interleave(torch.arange(batch_size), z_size * (2 * time_length - 1))\n",
    "idxs_2 = torch.tile(torch.repeat_interleave(torch.arange(z_size), (2 * time_length - 1)), dims=(batch_size,))\n",
    "idxs_3 = torch.tile(torch.cat([torch.arange(time_length), torch.arange(time_length - 1)]), dims=(batch_size * z_size,))\n",
    "idxs_4 = torch.tile(torch.cat([torch.arange(time_length), torch.arange(1, time_length)]), dims=(batch_size * z_size,))\n",
    "idxs_all = torch.stack([idxs_1, idxs_2, idxs_3, idxs_4], dim=1)\n",
    "\n",
    "# Obtain covariance matrix from precision one\n",
    "mapped_values = mapped_reshaped[:, :, :-1].reshape(-1)\n",
    "prec_sparse = torch.sparse_coo_tensor(idxs_all.T, mapped_values, dense_shape)\n",
    "prec_tril = prec_sparse.to_dense() + torch.eye(prec_sparse.size(-1), device=prec_sparse.device)\n",
    "cov_tril = torch.linalg.solve(prec_tril, torch.eye(prec_tril.size(-1), device=prec_tril.device))\n",
    "cov_tril = torch.where(torch.isfinite(cov_tril), cov_tril, torch.zeros_like(cov_tril))"
   ]
  },
  {
   "cell_type": "code",
   "execution_count": 16,
   "metadata": {},
   "outputs": [
    {
     "data": {
      "text/plain": [
       "tensor(3.0947e-07)"
      ]
     },
     "execution_count": 16,
     "metadata": {},
     "output_type": "execute_result"
    }
   ],
   "source": [
    "# prec_sparse.to_dense()\n",
    "torch.norm(prec_tril @ cov_tril - torch.eye(prec_tril.size(-1)))"
   ]
  },
  {
   "cell_type": "code",
   "execution_count": 19,
   "metadata": {},
   "outputs": [
    {
     "data": {
      "image/png": "[encoded data removed]",
      "text/plain": [
       "<Figure size 640x480 with 1 Axes>"
      ]
     },
     "metadata": {},
     "output_type": "display_data"
    }
   ],
   "source": [
    "import matplotlib.pyplot as plt\n",
    "plt.imshow(cov_tril[0, 0])\n",
    "plt.show()"
   ]
  },
  {
   "cell_type": "code",
   "execution_count": null,
   "metadata": {},
   "outputs": [],
   "source": []
  }
 ],
 "metadata": {
  "kernelspec": {
   "display_name": "base",
   "language": "python",
   "name": "python3"
  },
  "language_info": {
   "codemirror_mode": {
    "name": "ipython",
    "version": 3
   },
   "file_extension": ".py",
   "mimetype": "text/x-python",
   "name": "python",
   "nbconvert_exporter": "python",
   "pygments_lexer": "ipython3",
   "version": "3.10.6"
  },
  "orig_nbformat": 4
 },
 "nbformat": 4,
 "nbformat_minor": 2
}
