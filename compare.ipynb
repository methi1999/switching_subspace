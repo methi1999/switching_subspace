{
 "cells": [
  {
   "cell_type": "code",
   "execution_count": 16,
   "metadata": {},
   "outputs": [],
   "source": [
    "# compute kl divergence between two multivariate gaussians pytorch\n",
    "\n",
    "import torch\n",
    "import numpy as np\n",
    "import matplotlib.pyplot as plt\n",
    "import torch.distributions as dist\n",
    "\n",
    "# define two multivariate gaussians\n",
    "dim = 3\n",
    "batch = 10\n",
    "mu1 = torch.zeros(batch, dim)\n",
    "sigma1 = torch.eye(dim, dim).repeat(batch, 1, 1)\n",
    "mu2 = torch.rand(batch, dim)\n",
    "sigma2 = torch.rand(batch, dim, dim)\n",
    "sigma2 = torch.bmm(sigma2, sigma2.transpose(1,2)) # make it positive definite"
   ]
  },
  {
   "cell_type": "code",
   "execution_count": 17,
   "metadata": {},
   "outputs": [
    {
     "name": "stdout",
     "output_type": "stream",
     "text": [
      "tensor(2025773.6250)\n"
     ]
    }
   ],
   "source": [
    "# create multivariate gaussians\n",
    "p = dist.MultivariateNormal(mu1, sigma1)\n",
    "q = dist.MultivariateNormal(mu2, sigma2)\n",
    "\n",
    "# compute the kl divergence\n",
    "kl = dist.kl_divergence(p, q).sum()\n",
    "print(kl)"
   ]
  },
  {
   "cell_type": "code",
   "execution_count": 18,
   "metadata": {},
   "outputs": [
    {
     "name": "stdout",
     "output_type": "stream",
     "text": [
      "tensor(38.0896)\n"
     ]
    }
   ],
   "source": [
    "det = torch.det(sigma2)\n",
    "kl_loss = 0.5 * torch.sum(torch.sum(mu2.pow(2), dim=1) + torch.einsum(\"...ii\", sigma2) - mu2.shape[1] - torch.log(det))\n",
    "print(kl_loss)"
   ]
  },
  {
   "cell_type": "code",
   "execution_count": null,
   "metadata": {},
   "outputs": [],
   "source": []
  }
 ],
 "metadata": {
  "kernelspec": {
   "display_name": "base",
   "language": "python",
   "name": "python3"
  },
  "language_info": {
   "codemirror_mode": {
    "name": "ipython",
    "version": 3
   },
   "file_extension": ".py",
   "mimetype": "text/x-python",
   "name": "python",
   "nbconvert_exporter": "python",
   "pygments_lexer": "ipython3",
   "version": "3.10.6"
  }
 },
 "nbformat": 4,
 "nbformat_minor": 2
}
