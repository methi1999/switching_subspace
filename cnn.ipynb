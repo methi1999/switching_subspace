{
 "cells": [
  {
   "cell_type": "code",
   "execution_count": 1,
   "metadata": {},
   "outputs": [],
   "source": [
    "import numpy as np\n",
    "import matplotlib.pyplot as plt\n",
    "import sklearn\n",
    "import utils\n",
    "import torch\n",
    "from sklearn.model_selection import train_test_split\n",
    "import pickle\n",
    "# train svm, lr\n",
    "from sklearn.svm import SVC\n",
    "from sklearn.linear_model import LogisticRegression\n",
    "from sklearn.metrics import accuracy_score\n",
    "import os\n",
    "from model import Model"
   ]
  },
  {
   "cell_type": "code",
   "execution_count": 2,
   "metadata": {},
   "outputs": [],
   "source": [
    "%load_ext autoreload\n",
    "%autoreload 2"
   ]
  },
  {
   "cell_type": "code",
   "execution_count": 46,
   "metadata": {},
   "outputs": [
    {
     "name": "stdout",
     "output_type": "stream",
     "text": [
      "Train distribution of Stimulus: 0.46875, Choice: 0.359375, Prev Choice: 0.453125\n",
      "Test distribution of Stimulus: 0.5454545454545454, Choice: 0.48484848484848486, Prev Choice: 0.3333333333333333\n"
     ]
    }
   ],
   "source": [
    "config = utils.read_config()\n",
    "# set seeds\n",
    "utils.set_seeds(config['seed'])\n",
    "behaviour_data_all, spikes, trial_indices = utils.load_dataset(config)\n",
    "# consider data from only t = -1\n",
    "# time_from = int(1/bin_len)\n",
    "# behaviour_data_all, spikes = [x[time_from:, :] for x in behaviour_data_all], [x[time_from:, :] for x in spikes]\n",
    "stim_idx, choice_idx, amp_idx, prev_choice_idx = 9, 3, 24, 6\n",
    "stim = [x[0, stim_idx] for x in behaviour_data_all]\n",
    "choice = [x[0, choice_idx] for x in behaviour_data_all]\n",
    "prev_choice = [x[0, prev_choice_idx] for x in behaviour_data_all]\n",
    "amp = torch.tensor([x[:, amp_idx] for x in behaviour_data_all], dtype=torch.float32)\n",
    "# normalize amp by max value\n",
    "amp = amp / amp.max()\n",
    "num_contacts = [np.sum(x[:, 15:19], axis=1) for x in behaviour_data_all]\n",
    "# concat them\n",
    "behaviour_data = np.stack((stim, choice, prev_choice), axis=1)\n",
    "# convert to torch tensors\n",
    "behaviour_data = np.array(behaviour_data)\n",
    "# behaviour_data = torch.tensor(behaviour_data, dtype=torch.float32)\n",
    "spikes = np.array(spikes)\n",
    "num_trials, time_bins, emissions_dim = spikes.shape\n",
    "# create dataloader with random sampling for training and testing\n",
    "# split data into training and testing\n",
    "# behaviour_data_train, behaviour_data_test, spikes_train, spikes_test = train_test_split(behaviour_data, spikes, test_size=0.3, random_state=42)\n",
    "behaviour_data_train, behaviour_data_test, spikes_train, spikes_test, num_contacts_train, num_contacts_test = train_test_split(behaviour_data, spikes, num_contacts, test_size=0.2, random_state=7)\n",
    "# behaviour_data_train, behaviour_data_test, spikes_train, spikes_test, amp_train, amp_test = train_test_split(behaviour_data, spikes, amp, test_size=0.3, random_state=7)\n",
    "# further split test into test and val\n",
    "# behaviour_data_test, behaviour_data_val, spikes_test, spikes_val, amp_test, amp_val = train_test_split(behaviour_data_test, spikes_test, amp_test, test_size=0.5, random_state=7)\n",
    "trials_train, trials_test = len(behaviour_data_train), len(behaviour_data_test)\n",
    "# distribution of choice and stimulus in test\n",
    "print(\"Train distribution of Stimulus: {}, Choice: {}, Prev Choice: {}\".format(np.mean(behaviour_data_train[:, 0]), np.mean(behaviour_data_train[:, 1]), np.mean(behaviour_data_train[:, 2])))\n",
    "print(\"Test distribution of Stimulus: {}, Choice: {}, Prev Choice: {}\".format(np.mean(behaviour_data_test[:, 0]), np.mean(behaviour_data_test[:, 1]), np.mean(behaviour_data_test[:, 2])))\n",
    "# print(\"Val distribution of Stimulus: {}, Choice: {}, Prev Choice: {}\".format(np.mean(behaviour_data_val[:, 0]), np.mean(behaviour_data_val[:, 1]), np.mean(behaviour_data_val[:, 2])))\n",
    "# labels\n",
    "y_stim_train, y_stim_test = behaviour_data_train[:, 0], behaviour_data_test[:, 0]\n",
    "y_choice_train, y_choice_test = behaviour_data_train[:, 1], behaviour_data_test[:, 1]\n",
    "y_prev_choice_train, y_prev_choice_test = behaviour_data_train[:, 2], behaviour_data_test[:, 2]"
   ]
  },
  {
   "cell_type": "code",
   "execution_count": 69,
   "metadata": {},
   "outputs": [
    {
     "name": "stdout",
     "output_type": "stream",
     "text": [
      "Max test accuracy (stimulus): 0.6838235294117647, C = 10\n"
     ]
    }
   ],
   "source": [
    "def reshape(s, c):\n",
    "    # keep only those time bins where contact is made\n",
    "    x = []\n",
    "    for i in range(len(s)):\n",
    "        x.append(s[i, c[i] > 0])\n",
    "    return x\n",
    "\n",
    "train_ = reshape(spikes_train, num_contacts_train)\n",
    "test_ = reshape(spikes_test, num_contacts_test)\n",
    "train_acc_stim, test_acc_stim = [], []\n",
    "train_acc_choice, test_acc_choice = [], []\n",
    "list_c = [0.1, 1, 2, 5, 10, 20]\n",
    "# list_c = [10]\n",
    "# for which_beh, y_train, y_test in [('stim', y_stim_train, y_stim_test), ('choice', y_choice_train, y_choice_test)]:\n",
    "for which_beh, y_train, y_test in [('stim', y_stim_train, y_stim_test)]:\n",
    "    # repeat 25 times\n",
    "    y_train_ = [y_train[i] for i in range(len(train_)) for _ in range(len(train_[i]))]\n",
    "    y_test_ = [y_test[i] for i in range(len(test_)) for _ in range(len(test_[i]))]\n",
    "    # stack all spikes and labels\n",
    "    spikes_train_ = np.vstack(train_)\n",
    "    spikes_test_ = np.vstack(test_)        \n",
    "    for c in list_c:\n",
    "        # train svm\n",
    "        # clf = SVC(C=c)\n",
    "        # clf.fit(spikes_train_, y_train_)\n",
    "        clf = LogisticRegression(penalty='l1', solver='liblinear', C=c)                \n",
    "        clf.fit(spikes_train_, y_train_)\n",
    "        # predict\n",
    "        pred_test = clf.predict(spikes_test_)\n",
    "        pred_train = clf.predict(spikes_train_)\n",
    "        # calculate accuracy\n",
    "        test_accuracy = accuracy_score(y_test_, pred_test)\n",
    "        train_accuracy = accuracy_score(y_train_, pred_train)\n",
    "        if which_beh == 'stim':\n",
    "            train_acc_stim.append(train_accuracy)\n",
    "            test_acc_stim.append(test_accuracy)            \n",
    "        else:\n",
    "            train_acc_choice.append(train_accuracy)\n",
    "            test_acc_choice.append(test_accuracy)    \n",
    "# print max test accuracy\n",
    "max_test_acc_stim = np.max(test_acc_stim)\n",
    "# max_test_acc_choice = np.max(test_acc_choice)\n",
    "print(\"Max test accuracy (stimulus): {}, C = {}\".format(max_test_acc_stim, list_c[np.argmax(test_acc_stim)]))\n",
    "# print(\"Max test accuracy (choice): {}, C = {}\".format(max_test_acc_choice, list_c[np.argmax(test_acc_choice)]))\n"
   ]
  },
  {
   "cell_type": "code",
   "execution_count": 80,
   "metadata": {},
   "outputs": [
    {
     "name": "stderr",
     "output_type": "stream",
     "text": [
      "/var/folders/d9/5kr9n8rj3t18qph0lvrgf3dw0000gn/T/ipykernel_5544/4292166248.py:6: UserWarning: To copy construct from a tensor, it is recommended to use sourceTensor.clone().detach() or sourceTensor.clone().detach().requires_grad_(True), rather than torch.tensor(sourceTensor).\n",
      "  behaviour_data_train, behaviour_data_test = torch.tensor(behaviour_data_train, dtype=torch.long), torch.tensor(behaviour_data_test, dtype=torch.long)\n"
     ]
    }
   ],
   "source": [
    "# take predictions on entire neural dataset\n",
    "x0_train = spikes_train.dot(clf.coef_.T) + clf.intercept_\n",
    "x0_test = spikes_test.dot(clf.coef_.T) + clf.intercept_\n",
    "x_train = torch.tensor(x0_train, dtype=torch.float32)\n",
    "x_test = torch.tensor(x0_test, dtype=torch.float32)\n",
    "behaviour_data_train, behaviour_data_test = torch.tensor(behaviour_data_train, dtype=torch.long), torch.tensor(behaviour_data_test, dtype=torch.long)"
   ]
  },
  {
   "cell_type": "code",
   "execution_count": 78,
   "metadata": {},
   "outputs": [
    {
     "data": {
      "text/plain": [
       "<matplotlib.legend.Legend at 0x16aa38700>"
      ]
     },
     "execution_count": 78,
     "metadata": {},
     "output_type": "execute_result"
    },
    {
     "data": {
      "image/png": "[encoded data removed]",
      "text/plain": [
       "<Figure size 1000x500 with 1 Axes>"
      ]
     },
     "metadata": {},
     "output_type": "display_data"
    }
   ],
   "source": [
    "# plot one random trial\n",
    "trial = np.random.randint(0, len(spikes_test))\n",
    "plt.figure(figsize=(10, 5))\n",
    "plt.plot(x0_test[trial], label='x0')\n",
    "plt.plot(num_contacts_test[trial], label='Contacts')\n",
    "plt.legend()"
   ]
  },
  {
   "cell_type": "code",
   "execution_count": 79,
   "metadata": {},
   "outputs": [
    {
     "name": "stderr",
     "output_type": "stream",
     "text": [
      "/var/folders/d9/5kr9n8rj3t18qph0lvrgf3dw0000gn/T/ipykernel_5544/2472723289.py:11: UserWarning: To copy construct from a tensor, it is recommended to use sourceTensor.clone().detach() or sourceTensor.clone().detach().requires_grad_(True), rather than torch.tensor(sourceTensor).\n",
      "  behaviour_data_train, behaviour_data_test = torch.tensor(behaviour_data_train, dtype=torch.long), torch.tensor(behaviour_data_test, dtype=torch.long)\n"
     ]
    }
   ],
   "source": [
    "# load outputs\n",
    "pth = \"results/dandi_sub-221CR_ses-20190515T160400/100_ms/vae_gp_[1, 1, 1]_diagonal_gru_8_2_True_noise_0.01_rbfscale_0.5_smoothing_3_monotonic_1_1_10_[False, True, False]_3_entropy_None_seed_7/res.pkl\"\n",
    "with open(pth, 'rb') as f:\n",
    "    outputs = pickle.load(f)\n",
    "# take z and x\n",
    "z_train, x_train = outputs[2], outputs[1]\n",
    "z_test, x_test = outputs[11], outputs[10]\n",
    "# convert to torch tensors\n",
    "z_train, x_train = torch.tensor(z_train, dtype=torch.float32), torch.tensor(x_train, dtype=torch.float32)\n",
    "z_test, x_test = torch.tensor(z_test, dtype=torch.float32), torch.tensor(x_test, dtype=torch.float32)\n",
    "behaviour_data_train, behaviour_data_test = torch.tensor(behaviour_data_train, dtype=torch.long), torch.tensor(behaviour_data_test, dtype=torch.long)"
   ]
  },
  {
   "cell_type": "code",
   "execution_count": 81,
   "metadata": {},
   "outputs": [
    {
     "name": "stdout",
     "output_type": "stream",
     "text": [
      "Using stimulus decoder\n",
      "Scheduler not implemented for decoder\n",
      "Epoch [50/1000], Train Loss: 9.4999, Test Loss: 9.8974\n",
      "Epoch [100/1000], Train Loss: 8.6498, Test Loss: 9.9504\n",
      "Epoch [150/1000], Train Loss: 7.9810, Test Loss: 10.2932\n",
      "Epoch [200/1000], Train Loss: 7.5596, Test Loss: 10.7433\n",
      "Epoch [250/1000], Train Loss: 7.3211, Test Loss: 11.3244\n",
      "Epoch [300/1000], Train Loss: 7.1879, Test Loss: 11.9996\n",
      "Epoch [350/1000], Train Loss: 7.0679, Test Loss: 12.2724\n",
      "Epoch [400/1000], Train Loss: 6.9382, Test Loss: 12.5925\n",
      "Epoch [450/1000], Train Loss: 6.6245, Test Loss: 13.4348\n",
      "Epoch [500/1000], Train Loss: 6.1417, Test Loss: 14.9296\n",
      "Epoch [550/1000], Train Loss: 5.5712, Test Loss: 16.7581\n",
      "Epoch [600/1000], Train Loss: 5.3060, Test Loss: 18.0722\n",
      "Epoch [650/1000], Train Loss: 5.0428, Test Loss: 18.9200\n",
      "Epoch [700/1000], Train Loss: 4.8609, Test Loss: 20.2776\n",
      "Epoch [750/1000], Train Loss: 4.7499, Test Loss: 21.6480\n",
      "Epoch [800/1000], Train Loss: 4.6753, Test Loss: 22.6994\n",
      "Epoch [850/1000], Train Loss: 4.6158, Test Loss: 23.6244\n",
      "Epoch [900/1000], Train Loss: 4.5682, Test Loss: 24.4082\n",
      "Epoch [950/1000], Train Loss: 4.5291, Test Loss: 25.2638\n",
      "Epoch [1000/1000], Train Loss: 4.4877, Test Loss: 26.0385\n"
     ]
    }
   ],
   "source": [
    "import decoder\n",
    "nsamps = config['num_samples_train']\n",
    "config['decoder']['choice_latent'] = None\n",
    "config['decoder']['stim_latent'] = 0\n",
    "# train the linear decoder for behavior\n",
    "# create linear decoder\n",
    "decoder_model = decoder.CNNDecoderIndividual(config, [1, 0, 0])\n",
    "decoder_train_l, decoder_test_l = [], []\n",
    "# x_train, z_train = torch.tensor(x_train, dtype=torch.float32), torch.tensor(z_train, dtype=torch.float32)\n",
    "num_epochs = 1000\n",
    "for epoch in range(num_epochs):    \n",
    "    # forward pass        \n",
    "    decoder_model.train()    \n",
    "    behavior_pred = decoder_model(x_train, z_train)[0]\n",
    "    # print(behavior_pred)\n",
    "    # behavior_pred = decoder_model(mu_train[:, :, :2], mu_train[:, :, 2:])    \n",
    "    loss = decoder_model.loss(behavior_pred, behaviour_data_train, None, None)\n",
    "    # backward pass\n",
    "    decoder_model.optimizer.zero_grad()\n",
    "    loss.backward()\n",
    "    decoder_model.optimizer.step()\n",
    "    epoch_loss = loss.item()    \n",
    "    decoder_train_l.append(epoch_loss)\n",
    "    # test loss\n",
    "    if (epoch+1) % 50 == 0:\n",
    "        decoder_model.eval()\n",
    "        test_pred = decoder_model(x_test, z_test)[0]\n",
    "        # behavior_pred = decoder_model(mu_train[:, :, :2], mu_train[:, :, 2:])\n",
    "        test_loss = decoder_model.loss(test_pred, behaviour_data_test, None, None).item()        \n",
    "        decoder_test_l.append(test_loss)\n",
    "        print('Epoch [{}/{}], Train Loss: {:.4f}, Test Loss: {:.4f}'.format(epoch+1, num_epochs, decoder_train_l[-1], decoder_test_l[-1]))"
   ]
  },
  {
   "cell_type": "code",
   "execution_count": 83,
   "metadata": {},
   "outputs": [
    {
     "name": "stdout",
     "output_type": "stream",
     "text": [
      "Train Accuracy Stim: 0.875, Choice: 0.640625\n",
      "Test Accuracy Stim: 0.5757575757575758, Choice: 0.5151515151515151\n"
     ]
    }
   ],
   "source": [
    "with torch.no_grad():\n",
    "    behavior_pred_train = decoder_model(x_train, z_train)[0].detach()\n",
    "    behavior_pred_test = decoder_model(x_test, z_test)[0].detach()\n",
    "pred_stim_train = torch.argmax(behavior_pred_train[:, :2], dim=1).numpy()\n",
    "pred_choice_train = torch.argmax(behavior_pred_train[:, 2:4], dim=1).numpy()     \n",
    "accuracy_stim = accuracy_score(behaviour_data_train[:, 0], pred_stim_train)        \n",
    "accuracy_choice = accuracy_score(behaviour_data_train[:, 1], pred_choice_train)\n",
    "# same for test\n",
    "pred_stim_test = torch.argmax(behavior_pred_test[:, :2], dim=1).numpy()\n",
    "pred_choice_test = torch.argmax(behavior_pred_test[:, 2:4], dim=1).numpy()\n",
    "accuracy_stim_test = accuracy_score(behaviour_data_test[:, 0], pred_stim_test)\n",
    "accuracy_choice_test = accuracy_score(behaviour_data_test[:, 1], pred_choice_test)\n",
    "print(\"Train Accuracy Stim: {}, Choice: {}\".format(accuracy_stim, accuracy_choice))\n",
    "print(\"Test Accuracy Stim: {}, Choice: {}\".format(accuracy_stim_test, accuracy_choice_test))"
   ]
  }
 ],
 "metadata": {
  "kernelspec": {
   "display_name": "base",
   "language": "python",
   "name": "python3"
  },
  "language_info": {
   "codemirror_mode": {
    "name": "ipython",
    "version": 3
   },
   "file_extension": ".py",
   "mimetype": "text/x-python",
   "name": "python",
   "nbconvert_exporter": "python",
   "pygments_lexer": "ipython3",
   "version": "3.10.6"
  }
 },
 "nbformat": 4,
 "nbformat_minor": 2
}
